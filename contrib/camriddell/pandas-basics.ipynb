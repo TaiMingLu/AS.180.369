{
 "cells": [
  {
   "cell_type": "markdown",
   "id": "83b8217b-fc25-42b0-bf3c-a4b34587e1d8",
   "metadata": {},
   "source": [
    "# Introduction to pandas\n",
    "\n",
    "1. Creating a DataFrame\n",
    "2. Select columns & rows from a DataFrame\n",
    "3. Calculate aggregations/descriptive statistics\n",
    "4. Grouped calculations\n",
    "\n",
    "## The Basics"
   ]
  },
  {
   "cell_type": "code",
   "execution_count": 1,
   "id": "2d3a2f07-ca5a-444a-b5bd-18a6098f30bb",
   "metadata": {},
   "outputs": [],
   "source": [
    "import pandas as pd"
   ]
  },
  {
   "cell_type": "markdown",
   "id": "145b6340-f180-4588-9467-c26fd2de341a",
   "metadata": {},
   "source": [
    "### Create a pandas DataFrame"
   ]
  },
  {
   "cell_type": "code",
   "execution_count": 2,
   "id": "3e58dfbf-9b48-4b3a-9b9f-d562e4adcb52",
   "metadata": {},
   "outputs": [
    {
     "data": {
      "text/plain": [
       "2"
      ]
     },
     "execution_count": 2,
     "metadata": {},
     "output_type": "execute_result"
    }
   ],
   "source": [
    "d = {'a': 1, 'b': 2, 'c': 3}\n",
    "d['b']"
   ]
  },
  {
   "cell_type": "code",
   "execution_count": 3,
   "id": "a92f5529-c9e7-425d-9985-48dfd6acbb76",
   "metadata": {},
   "outputs": [
    {
     "data": {
      "text/html": [
       "<div>\n",
       "<style scoped>\n",
       "    .dataframe tbody tr th:only-of-type {\n",
       "        vertical-align: middle;\n",
       "    }\n",
       "\n",
       "    .dataframe tbody tr th {\n",
       "        vertical-align: top;\n",
       "    }\n",
       "\n",
       "    .dataframe thead th {\n",
       "        text-align: right;\n",
       "    }\n",
       "</style>\n",
       "<table border=\"1\" class=\"dataframe\">\n",
       "  <thead>\n",
       "    <tr style=\"text-align: right;\">\n",
       "      <th></th>\n",
       "      <th>eye</th>\n",
       "      <th>hair</th>\n",
       "      <th>height</th>\n",
       "    </tr>\n",
       "  </thead>\n",
       "  <tbody>\n",
       "    <tr>\n",
       "      <th>0</th>\n",
       "      <td>brown</td>\n",
       "      <td>brown</td>\n",
       "      <td>60</td>\n",
       "    </tr>\n",
       "    <tr>\n",
       "      <th>1</th>\n",
       "      <td>green</td>\n",
       "      <td>blonde</td>\n",
       "      <td>72</td>\n",
       "    </tr>\n",
       "    <tr>\n",
       "      <th>2</th>\n",
       "      <td>blue</td>\n",
       "      <td>red</td>\n",
       "      <td>62</td>\n",
       "    </tr>\n",
       "    <tr>\n",
       "      <th>3</th>\n",
       "      <td>blue</td>\n",
       "      <td>blonde</td>\n",
       "      <td>65</td>\n",
       "    </tr>\n",
       "    <tr>\n",
       "      <th>4</th>\n",
       "      <td>brown</td>\n",
       "      <td>brown</td>\n",
       "      <td>80</td>\n",
       "    </tr>\n",
       "    <tr>\n",
       "      <th>5</th>\n",
       "      <td>brown</td>\n",
       "      <td>blue</td>\n",
       "      <td>74</td>\n",
       "    </tr>\n",
       "  </tbody>\n",
       "</table>\n",
       "</div>"
      ],
      "text/plain": [
       "     eye    hair  height\n",
       "0  brown   brown      60\n",
       "1  green  blonde      72\n",
       "2   blue     red      62\n",
       "3   blue  blonde      65\n",
       "4  brown   brown      80\n",
       "5  brown    blue      74"
      ]
     },
     "execution_count": 3,
     "metadata": {},
     "output_type": "execute_result"
    }
   ],
   "source": [
    "df = pd.DataFrame({\n",
    "    'eye':    ['brown', 'green', 'blue', 'blue', 'brown', 'brown'],\n",
    "    'hair':   ['brown', 'blonde', 'red', 'blonde', 'brown', 'blue'],\n",
    "    'height': [60,       72,      62,     65,      80,      74    ],\n",
    "})\n",
    "\n",
    "# print(df) # Jupyter will display the last line of your cell!\n",
    "df"
   ]
  },
  {
   "cell_type": "markdown",
   "id": "def73ad8-a579-45e5-a49d-df0a4322bdfd",
   "metadata": {},
   "source": [
    "### Selecting Columns & Rows"
   ]
  },
  {
   "cell_type": "code",
   "execution_count": 4,
   "id": "02980991-f89a-478a-847a-34e9e569f5f7",
   "metadata": {},
   "outputs": [
    {
     "data": {
      "text/plain": [
       "eye       object\n",
       "hair      object\n",
       "height     int64\n",
       "dtype: object"
      ]
     },
     "execution_count": 4,
     "metadata": {},
     "output_type": "execute_result"
    }
   ],
   "source": [
    "df.dtypes"
   ]
  },
  {
   "cell_type": "code",
   "execution_count": 5,
   "id": "85f7610b-0df3-4de2-b162-ce97bfd4f85a",
   "metadata": {},
   "outputs": [
    {
     "data": {
      "text/html": [
       "<div>\n",
       "<style scoped>\n",
       "    .dataframe tbody tr th:only-of-type {\n",
       "        vertical-align: middle;\n",
       "    }\n",
       "\n",
       "    .dataframe tbody tr th {\n",
       "        vertical-align: top;\n",
       "    }\n",
       "\n",
       "    .dataframe thead th {\n",
       "        text-align: right;\n",
       "    }\n",
       "</style>\n",
       "<table border=\"1\" class=\"dataframe\">\n",
       "  <thead>\n",
       "    <tr style=\"text-align: right;\">\n",
       "      <th></th>\n",
       "      <th>height</th>\n",
       "      <th>eye</th>\n",
       "    </tr>\n",
       "  </thead>\n",
       "  <tbody>\n",
       "    <tr>\n",
       "      <th>0</th>\n",
       "      <td>60</td>\n",
       "      <td>brown</td>\n",
       "    </tr>\n",
       "    <tr>\n",
       "      <th>1</th>\n",
       "      <td>72</td>\n",
       "      <td>green</td>\n",
       "    </tr>\n",
       "    <tr>\n",
       "      <th>2</th>\n",
       "      <td>62</td>\n",
       "      <td>blue</td>\n",
       "    </tr>\n",
       "    <tr>\n",
       "      <th>3</th>\n",
       "      <td>65</td>\n",
       "      <td>blue</td>\n",
       "    </tr>\n",
       "    <tr>\n",
       "      <th>4</th>\n",
       "      <td>80</td>\n",
       "      <td>brown</td>\n",
       "    </tr>\n",
       "    <tr>\n",
       "      <th>5</th>\n",
       "      <td>74</td>\n",
       "      <td>brown</td>\n",
       "    </tr>\n",
       "  </tbody>\n",
       "</table>\n",
       "</div>"
      ],
      "text/plain": [
       "   height    eye\n",
       "0      60  brown\n",
       "1      72  green\n",
       "2      62   blue\n",
       "3      65   blue\n",
       "4      80  brown\n",
       "5      74  brown"
      ]
     },
     "execution_count": 5,
     "metadata": {},
     "output_type": "execute_result"
    }
   ],
   "source": [
    "# df['height'] # select single column\n",
    "df[['height', 'eye']] # select multiple columns"
   ]
  },
  {
   "cell_type": "markdown",
   "id": "b257064d-f5de-4961-b07a-72df095e8b25",
   "metadata": {},
   "source": [
    "#### Comparators\n",
    "- Less than `<`\n",
    "- Greater than `>`\n",
    "- Less than/equal to `<=`\n",
    "- Greater than/equal to `>=`\n",
    "- Is equal to `==`\n",
    "- Not equal to `!=`"
   ]
  },
  {
   "cell_type": "code",
   "execution_count": 6,
   "id": "c4b5d2a9-5a47-49c1-bb90-4f663c0ed602",
   "metadata": {},
   "outputs": [
    {
     "data": {
      "text/html": [
       "<div>\n",
       "<style scoped>\n",
       "    .dataframe tbody tr th:only-of-type {\n",
       "        vertical-align: middle;\n",
       "    }\n",
       "\n",
       "    .dataframe tbody tr th {\n",
       "        vertical-align: top;\n",
       "    }\n",
       "\n",
       "    .dataframe thead th {\n",
       "        text-align: right;\n",
       "    }\n",
       "</style>\n",
       "<table border=\"1\" class=\"dataframe\">\n",
       "  <thead>\n",
       "    <tr style=\"text-align: right;\">\n",
       "      <th></th>\n",
       "      <th>eye</th>\n",
       "      <th>hair</th>\n",
       "      <th>height</th>\n",
       "    </tr>\n",
       "  </thead>\n",
       "  <tbody>\n",
       "    <tr>\n",
       "      <th>0</th>\n",
       "      <td>brown</td>\n",
       "      <td>brown</td>\n",
       "      <td>60</td>\n",
       "    </tr>\n",
       "    <tr>\n",
       "      <th>4</th>\n",
       "      <td>brown</td>\n",
       "      <td>brown</td>\n",
       "      <td>80</td>\n",
       "    </tr>\n",
       "    <tr>\n",
       "      <th>5</th>\n",
       "      <td>brown</td>\n",
       "      <td>blue</td>\n",
       "      <td>74</td>\n",
       "    </tr>\n",
       "  </tbody>\n",
       "</table>\n",
       "</div>"
      ],
      "text/plain": [
       "     eye   hair  height\n",
       "0  brown  brown      60\n",
       "4  brown  brown      80\n",
       "5  brown   blue      74"
      ]
     },
     "execution_count": 6,
     "metadata": {},
     "output_type": "execute_result"
    }
   ],
   "source": [
    "# df['eye'] == 'brown'\n",
    "# df['height'] == 60\n",
    "# df['height'] <= 70\n",
    "\n",
    "# df.loc[df['height'] <= 70] # filtering on a boolean criteria\n",
    "df.loc[df['eye'] == 'brown'] # individuals with brown eyes"
   ]
  },
  {
   "cell_type": "code",
   "execution_count": 7,
   "id": "0118638e-cda0-4852-9c28-3d9cbab945bb",
   "metadata": {},
   "outputs": [
    {
     "data": {
      "text/html": [
       "<div>\n",
       "<style scoped>\n",
       "    .dataframe tbody tr th:only-of-type {\n",
       "        vertical-align: middle;\n",
       "    }\n",
       "\n",
       "    .dataframe tbody tr th {\n",
       "        vertical-align: top;\n",
       "    }\n",
       "\n",
       "    .dataframe thead th {\n",
       "        text-align: right;\n",
       "    }\n",
       "</style>\n",
       "<table border=\"1\" class=\"dataframe\">\n",
       "  <thead>\n",
       "    <tr style=\"text-align: right;\">\n",
       "      <th></th>\n",
       "      <th>eye</th>\n",
       "      <th>hair</th>\n",
       "      <th>height</th>\n",
       "    </tr>\n",
       "  </thead>\n",
       "  <tbody>\n",
       "    <tr>\n",
       "      <th>0</th>\n",
       "      <td>brown</td>\n",
       "      <td>brown</td>\n",
       "      <td>60</td>\n",
       "    </tr>\n",
       "    <tr>\n",
       "      <th>1</th>\n",
       "      <td>green</td>\n",
       "      <td>blonde</td>\n",
       "      <td>72</td>\n",
       "    </tr>\n",
       "    <tr>\n",
       "      <th>2</th>\n",
       "      <td>blue</td>\n",
       "      <td>red</td>\n",
       "      <td>62</td>\n",
       "    </tr>\n",
       "    <tr>\n",
       "      <th>3</th>\n",
       "      <td>blue</td>\n",
       "      <td>blonde</td>\n",
       "      <td>65</td>\n",
       "    </tr>\n",
       "    <tr>\n",
       "      <th>4</th>\n",
       "      <td>brown</td>\n",
       "      <td>brown</td>\n",
       "      <td>80</td>\n",
       "    </tr>\n",
       "    <tr>\n",
       "      <th>5</th>\n",
       "      <td>brown</td>\n",
       "      <td>blue</td>\n",
       "      <td>74</td>\n",
       "    </tr>\n",
       "  </tbody>\n",
       "</table>\n",
       "</div>"
      ],
      "text/plain": [
       "     eye    hair  height\n",
       "0  brown   brown      60\n",
       "1  green  blonde      72\n",
       "2   blue     red      62\n",
       "3   blue  blonde      65\n",
       "4  brown   brown      80\n",
       "5  brown    blue      74"
      ]
     },
     "execution_count": 7,
     "metadata": {},
     "output_type": "execute_result"
    }
   ],
   "source": [
    "df"
   ]
  },
  {
   "cell_type": "code",
   "execution_count": 8,
   "id": "cc30263b-b9a8-4bfc-985d-f8819b329c84",
   "metadata": {},
   "outputs": [
    {
     "data": {
      "text/html": [
       "<div>\n",
       "<style scoped>\n",
       "    .dataframe tbody tr th:only-of-type {\n",
       "        vertical-align: middle;\n",
       "    }\n",
       "\n",
       "    .dataframe tbody tr th {\n",
       "        vertical-align: top;\n",
       "    }\n",
       "\n",
       "    .dataframe thead th {\n",
       "        text-align: right;\n",
       "    }\n",
       "</style>\n",
       "<table border=\"1\" class=\"dataframe\">\n",
       "  <thead>\n",
       "    <tr style=\"text-align: right;\">\n",
       "      <th></th>\n",
       "      <th>eye</th>\n",
       "      <th>hair</th>\n",
       "      <th>height</th>\n",
       "    </tr>\n",
       "  </thead>\n",
       "  <tbody>\n",
       "    <tr>\n",
       "      <th>1</th>\n",
       "      <td>green</td>\n",
       "      <td>blonde</td>\n",
       "      <td>72</td>\n",
       "    </tr>\n",
       "    <tr>\n",
       "      <th>2</th>\n",
       "      <td>blue</td>\n",
       "      <td>red</td>\n",
       "      <td>62</td>\n",
       "    </tr>\n",
       "    <tr>\n",
       "      <th>3</th>\n",
       "      <td>blue</td>\n",
       "      <td>blonde</td>\n",
       "      <td>65</td>\n",
       "    </tr>\n",
       "  </tbody>\n",
       "</table>\n",
       "</div>"
      ],
      "text/plain": [
       "     eye    hair  height\n",
       "1  green  blonde      72\n",
       "2   blue     red      62\n",
       "3   blue  blonde      65"
      ]
     },
     "execution_count": 8,
     "metadata": {},
     "output_type": "execute_result"
    }
   ],
   "source": [
    "(df['eye'] == 'brown') & (df['height'] <= 70) # combine boolean expressions\n",
    "# df.loc[(df['eye'] == 'brown') & (df['height'] <= 70)]\n",
    "\n",
    "(df['eye'] == 'brown') | (df['height'] <= 70) # combine boolean expressions\n",
    "# df.loc[(df['eye'] == 'brown') | (df['height'] <= 70)]\n",
    "\n",
    "df.loc[(df['eye'] != 'brown')]"
   ]
  },
  {
   "cell_type": "markdown",
   "id": "1195a7aa-2d9d-414c-8f6b-ce2c72798756",
   "metadata": {},
   "source": [
    "### Calculations\n",
    "- algebraic operations\n",
    "    - addition, subtraction, multiplication, division, power\n",
    "- aggregations\n",
    "    - min, max\n",
    "    - mean, median, mode\n",
    "    - standard deviation"
   ]
  },
  {
   "cell_type": "code",
   "execution_count": 9,
   "id": "279a3fa2-3cc0-4e05-8e1a-dd4e6d08d82e",
   "metadata": {},
   "outputs": [
    {
     "data": {
      "text/plain": [
       "eye       object\n",
       "hair      object\n",
       "height     int64\n",
       "dtype: object"
      ]
     },
     "execution_count": 9,
     "metadata": {},
     "output_type": "execute_result"
    }
   ],
   "source": [
    "df.dtypes"
   ]
  },
  {
   "cell_type": "code",
   "execution_count": 10,
   "id": "748e1969-8bfd-4226-ad37-a92bb7fa64a2",
   "metadata": {},
   "outputs": [
    {
     "data": {
      "text/plain": [
       "7.756717518813398"
      ]
     },
     "execution_count": 10,
     "metadata": {},
     "output_type": "execute_result"
    }
   ],
   "source": [
    "# df.select_dtypes('object')\n",
    "# ((df['height'] + 10).astype(str)) + ' inches'\n",
    "# df['height'] + 100.1\n",
    "\n",
    "# df['height'] - 100\n",
    "# df['height'] / 10\n",
    "# df['height'] * 100\n",
    "# df['height'] ** 2\n",
    "\n",
    "# df['height'].max()\n",
    "# df['height'].min()\n",
    "# df['height'].mean()\n",
    "# df['height'].median()\n",
    "# df['height'].quantile([.25, .5, .75])\n",
    "df['height'].std()"
   ]
  },
  {
   "cell_type": "code",
   "execution_count": 11,
   "id": "cd2cf572-3a5b-4d0b-b74f-be618bb21ddf",
   "metadata": {},
   "outputs": [
    {
     "data": {
      "text/plain": [
       "eye\n",
       "blue     63.500000\n",
       "brown    71.333333\n",
       "green    72.000000\n",
       "Name: height, dtype: float64"
      ]
     },
     "execution_count": 11,
     "metadata": {},
     "output_type": "execute_result"
    }
   ],
   "source": [
    "df.groupby('eye')['height'].mean()"
   ]
  },
  {
   "cell_type": "markdown",
   "id": "b994d999-bb35-4c26-9f46-0e8283511c3f",
   "metadata": {},
   "source": [
    "## Applied to Fred\n",
    "### Load Data from Fred"
   ]
  },
  {
   "cell_type": "code",
   "execution_count": 12,
   "id": "be5b0916-6142-4d8e-8490-d20d523522f1",
   "metadata": {},
   "outputs": [
    {
     "data": {
      "text/html": [
       "<div>\n",
       "<style scoped>\n",
       "    .dataframe tbody tr th:only-of-type {\n",
       "        vertical-align: middle;\n",
       "    }\n",
       "\n",
       "    .dataframe tbody tr th {\n",
       "        vertical-align: top;\n",
       "    }\n",
       "\n",
       "    .dataframe thead th {\n",
       "        text-align: right;\n",
       "    }\n",
       "</style>\n",
       "<table border=\"1\" class=\"dataframe\">\n",
       "  <thead>\n",
       "    <tr style=\"text-align: right;\">\n",
       "      <th></th>\n",
       "      <th>OECD</th>\n",
       "      <th>CPI</th>\n",
       "    </tr>\n",
       "  </thead>\n",
       "  <tbody>\n",
       "    <tr>\n",
       "      <th>1960-01-01</th>\n",
       "      <td>3.418156</td>\n",
       "      <td>29.37</td>\n",
       "    </tr>\n",
       "    <tr>\n",
       "      <th>1960-02-01</th>\n",
       "      <td>3.255919</td>\n",
       "      <td>29.41</td>\n",
       "    </tr>\n",
       "    <tr>\n",
       "      <th>1960-03-01</th>\n",
       "      <td>3.205570</td>\n",
       "      <td>29.41</td>\n",
       "    </tr>\n",
       "    <tr>\n",
       "      <th>1960-04-01</th>\n",
       "      <td>3.233542</td>\n",
       "      <td>29.54</td>\n",
       "    </tr>\n",
       "    <tr>\n",
       "      <th>1960-05-01</th>\n",
       "      <td>3.205570</td>\n",
       "      <td>29.57</td>\n",
       "    </tr>\n",
       "  </tbody>\n",
       "</table>\n",
       "</div>"
      ],
      "text/plain": [
       "                OECD    CPI\n",
       "1960-01-01  3.418156  29.37\n",
       "1960-02-01  3.255919  29.41\n",
       "1960-03-01  3.205570  29.41\n",
       "1960-04-01  3.233542  29.54\n",
       "1960-05-01  3.205570  29.57"
      ]
     },
     "execution_count": 12,
     "metadata": {},
     "output_type": "execute_result"
    }
   ],
   "source": [
    "from fredapi import Fred\n",
    "fred = Fred(api_key='8f59dec25e3eb3275581b6d50ddbc63b')\n",
    "\n",
    "# OECD Total share price index \n",
    "oecd_series = (\n",
    "    fred.get_series(\n",
    "        'SPASTT01USM661N', observation_start='1960-01-01', observation_end='2023-07-01'\n",
    "    )\n",
    ")\n",
    "\n",
    "cpi_series =(\n",
    "    fred.get_series('CPIAUCSL', observation_start='1960-01-01', observation_end='2023-07-01')\n",
    ")\n",
    "\n",
    "fred_df = pd.DataFrame({\n",
    "    'OECD': oecd_series,\n",
    "    'CPI': cpi_series\n",
    "})\n",
    "\n",
    "fred_df.head(5)\n",
    "# data.head() # view first N rows/entries\n",
    "# data.tail() # view last N rows/entries"
   ]
  },
  {
   "cell_type": "code",
   "execution_count": 13,
   "id": "498bbc54-361f-430d-9d9c-e37427fd2a31",
   "metadata": {},
   "outputs": [
    {
     "data": {
      "text/html": [
       "<div>\n",
       "<style scoped>\n",
       "    .dataframe tbody tr th:only-of-type {\n",
       "        vertical-align: middle;\n",
       "    }\n",
       "\n",
       "    .dataframe tbody tr th {\n",
       "        vertical-align: top;\n",
       "    }\n",
       "\n",
       "    .dataframe thead th {\n",
       "        text-align: right;\n",
       "    }\n",
       "</style>\n",
       "<table border=\"1\" class=\"dataframe\">\n",
       "  <thead>\n",
       "    <tr style=\"text-align: right;\">\n",
       "      <th></th>\n",
       "      <th>OECD</th>\n",
       "      <th>CPI</th>\n",
       "      <th>CPI_adj</th>\n",
       "    </tr>\n",
       "  </thead>\n",
       "  <tbody>\n",
       "    <tr>\n",
       "      <th>1960-01-01</th>\n",
       "      <td>3.418156</td>\n",
       "      <td>29.370</td>\n",
       "      <td>0.097784</td>\n",
       "    </tr>\n",
       "    <tr>\n",
       "      <th>1960-02-01</th>\n",
       "      <td>3.255919</td>\n",
       "      <td>29.410</td>\n",
       "      <td>0.097917</td>\n",
       "    </tr>\n",
       "    <tr>\n",
       "      <th>1960-03-01</th>\n",
       "      <td>3.205570</td>\n",
       "      <td>29.410</td>\n",
       "      <td>0.097917</td>\n",
       "    </tr>\n",
       "    <tr>\n",
       "      <th>1960-04-01</th>\n",
       "      <td>3.233542</td>\n",
       "      <td>29.540</td>\n",
       "      <td>0.098350</td>\n",
       "    </tr>\n",
       "    <tr>\n",
       "      <th>1960-05-01</th>\n",
       "      <td>3.205570</td>\n",
       "      <td>29.570</td>\n",
       "      <td>0.098450</td>\n",
       "    </tr>\n",
       "    <tr>\n",
       "      <th>...</th>\n",
       "      <td>...</td>\n",
       "      <td>...</td>\n",
       "      <td>...</td>\n",
       "    </tr>\n",
       "    <tr>\n",
       "      <th>2023-03-01</th>\n",
       "      <td>141.134600</td>\n",
       "      <td>301.744</td>\n",
       "      <td>1.004621</td>\n",
       "    </tr>\n",
       "    <tr>\n",
       "      <th>2023-04-01</th>\n",
       "      <td>145.176100</td>\n",
       "      <td>303.032</td>\n",
       "      <td>1.008909</td>\n",
       "    </tr>\n",
       "    <tr>\n",
       "      <th>2023-05-01</th>\n",
       "      <td>142.470800</td>\n",
       "      <td>303.365</td>\n",
       "      <td>1.010018</td>\n",
       "    </tr>\n",
       "    <tr>\n",
       "      <th>2023-06-01</th>\n",
       "      <td>145.834400</td>\n",
       "      <td>304.003</td>\n",
       "      <td>1.012142</td>\n",
       "    </tr>\n",
       "    <tr>\n",
       "      <th>2023-07-01</th>\n",
       "      <td>150.752000</td>\n",
       "      <td>304.628</td>\n",
       "      <td>1.014223</td>\n",
       "    </tr>\n",
       "  </tbody>\n",
       "</table>\n",
       "<p>763 rows × 3 columns</p>\n",
       "</div>"
      ],
      "text/plain": [
       "                  OECD      CPI   CPI_adj\n",
       "1960-01-01    3.418156   29.370  0.097784\n",
       "1960-02-01    3.255919   29.410  0.097917\n",
       "1960-03-01    3.205570   29.410  0.097917\n",
       "1960-04-01    3.233542   29.540  0.098350\n",
       "1960-05-01    3.205570   29.570  0.098450\n",
       "...                ...      ...       ...\n",
       "2023-03-01  141.134600  301.744  1.004621\n",
       "2023-04-01  145.176100  303.032  1.008909\n",
       "2023-05-01  142.470800  303.365  1.010018\n",
       "2023-06-01  145.834400  304.003  1.012142\n",
       "2023-07-01  150.752000  304.628  1.014223\n",
       "\n",
       "[763 rows x 3 columns]"
      ]
     },
     "execution_count": 13,
     "metadata": {},
     "output_type": "execute_result"
    }
   ],
   "source": [
    "# fred_df['CPI_adj'] = 1 # Make a new column in pandas\n",
    "fred_df['CPI_adj'] = fred_df['CPI'] / fred_df.loc['2023-01-01']['CPI']\n",
    "fred_df"
   ]
  },
  {
   "cell_type": "markdown",
   "id": "56f2d65e-2622-4dec-8ae0-1dd7332962d6",
   "metadata": {},
   "source": [
    "## Load Data from a File (.csv)\n",
    "- [`pandas.read_csv`](https://pandas.pydata.org/docs/reference/api/pandas.read_csv.html)\n",
    "- [`pandas.read_excel`](https://pandas.pydata.org/docs/reference/api/pandas.read_excel.html)"
   ]
  },
  {
   "cell_type": "code",
   "execution_count": 14,
   "id": "4cac1ed2-4ac7-4982-be17-2e21bf0f873c",
   "metadata": {},
   "outputs": [
    {
     "name": "stdout",
     "output_type": "stream",
     "text": [
      "/Users/lutaiming/Library/Mobile Documents/com~apple~CloudDocs/US/JHU/Economics/Tools for Writing an Economics Paper/AS.180.369/contrib/camriddell\n"
     ]
    }
   ],
   "source": [
    "!pwd"
   ]
  },
  {
   "cell_type": "code",
   "execution_count": 15,
   "id": "2bb93af4-1a80-48d2-89c0-3290121ce4fb",
   "metadata": {},
   "outputs": [
    {
     "data": {
      "text/html": [
       "<div>\n",
       "<style scoped>\n",
       "    .dataframe tbody tr th:only-of-type {\n",
       "        vertical-align: middle;\n",
       "    }\n",
       "\n",
       "    .dataframe tbody tr th {\n",
       "        vertical-align: top;\n",
       "    }\n",
       "\n",
       "    .dataframe thead th {\n",
       "        text-align: right;\n",
       "    }\n",
       "</style>\n",
       "<table border=\"1\" class=\"dataframe\">\n",
       "  <thead>\n",
       "    <tr style=\"text-align: right;\">\n",
       "      <th></th>\n",
       "      <th>Date</th>\n",
       "      <th>GOP</th>\n",
       "      <th>party</th>\n",
       "    </tr>\n",
       "  </thead>\n",
       "  <tbody>\n",
       "    <tr>\n",
       "      <th>0</th>\n",
       "      <td>1871-01-01</td>\n",
       "      <td>True</td>\n",
       "      <td>GOP</td>\n",
       "    </tr>\n",
       "    <tr>\n",
       "      <th>1</th>\n",
       "      <td>1871-02-01</td>\n",
       "      <td>True</td>\n",
       "      <td>GOP</td>\n",
       "    </tr>\n",
       "    <tr>\n",
       "      <th>2</th>\n",
       "      <td>1871-03-01</td>\n",
       "      <td>True</td>\n",
       "      <td>GOP</td>\n",
       "    </tr>\n",
       "    <tr>\n",
       "      <th>3</th>\n",
       "      <td>1871-04-01</td>\n",
       "      <td>True</td>\n",
       "      <td>GOP</td>\n",
       "    </tr>\n",
       "    <tr>\n",
       "      <th>4</th>\n",
       "      <td>1871-05-01</td>\n",
       "      <td>True</td>\n",
       "      <td>GOP</td>\n",
       "    </tr>\n",
       "  </tbody>\n",
       "</table>\n",
       "</div>"
      ],
      "text/plain": [
       "        Date   GOP party\n",
       "0 1871-01-01  True   GOP\n",
       "1 1871-02-01  True   GOP\n",
       "2 1871-03-01  True   GOP\n",
       "3 1871-04-01  True   GOP\n",
       "4 1871-05-01  True   GOP"
      ]
     },
     "execution_count": 15,
     "metadata": {},
     "output_type": "execute_result"
    }
   ],
   "source": [
    "df_gop = pd.read_csv(\n",
    "    \"../../materials/presidential-term-data/GOP_flag.csv\",\n",
    "    dtype={'Date': str, 'GOP': bool}\n",
    ")\n",
    "\n",
    "df_gop = df_gop.drop_duplicates() # remove duplicate rows from data\n",
    "\n",
    "# Seeing party is easier to understand than boolean of GOP\n",
    "df_gop['party'] = df_gop['GOP'].map({True: 'GOP', False: 'Dem'})\n",
    "\n",
    "# Dates are currently strings and we need them to be datetimes\n",
    "# we are updating the date column with the converted version of itself\n",
    "# Note that .str.ljust is a quick fix for improper dates\n",
    "df_gop['Date'] = pd.to_datetime(\n",
    "    df_gop['Date'].str.ljust(7, '0'), format='%Y.%m'\n",
    ")\n",
    "\n",
    "df_gop.head()"
   ]
  },
  {
   "cell_type": "markdown",
   "id": "5f5dc011-beed-4083-bbfc-dc222af42f42",
   "metadata": {},
   "source": [
    "## Simple Econometrics\n",
    "\n",
    "First we need to combine ALL of our data. We covered constructing a NEW DataFrame given some parts, but we can also combine 2 DataFrames along a specified column via [`.merge`](https://pandas.pydata.org/docs/reference/api/pandas.DataFrame.merge.html). If you have used Excel, this is essentially a VLOOKUP:\n"
   ]
  },
  {
   "cell_type": "code",
   "execution_count": 16,
   "id": "8317b18d-b5d7-4c62-8b5a-8076b7b50947",
   "metadata": {},
   "outputs": [
    {
     "data": {
      "text/html": [
       "<div>\n",
       "<style scoped>\n",
       "    .dataframe tbody tr th:only-of-type {\n",
       "        vertical-align: middle;\n",
       "    }\n",
       "\n",
       "    .dataframe tbody tr th {\n",
       "        vertical-align: top;\n",
       "    }\n",
       "\n",
       "    .dataframe thead th {\n",
       "        text-align: right;\n",
       "    }\n",
       "</style>\n",
       "<table border=\"1\" class=\"dataframe\">\n",
       "  <thead>\n",
       "    <tr style=\"text-align: right;\">\n",
       "      <th></th>\n",
       "      <th>OECD</th>\n",
       "      <th>CPI</th>\n",
       "      <th>CPI_adj</th>\n",
       "      <th>Date</th>\n",
       "      <th>GOP</th>\n",
       "      <th>party</th>\n",
       "      <th>real_total_return</th>\n",
       "      <th>log_real_total_return</th>\n",
       "      <th>party_lag</th>\n",
       "    </tr>\n",
       "  </thead>\n",
       "  <tbody>\n",
       "    <tr>\n",
       "      <th>1188</th>\n",
       "      <td>5.003093</td>\n",
       "      <td>37.9</td>\n",
       "      <td>0.126184</td>\n",
       "      <td>1970-01-01</td>\n",
       "      <td>True</td>\n",
       "      <td>GOP</td>\n",
       "      <td>0.631308</td>\n",
       "      <td>-0.459961</td>\n",
       "      <td>None</td>\n",
       "    </tr>\n",
       "    <tr>\n",
       "      <th>1189</th>\n",
       "      <td>4.828743</td>\n",
       "      <td>38.1</td>\n",
       "      <td>0.126849</td>\n",
       "      <td>1970-02-01</td>\n",
       "      <td>True</td>\n",
       "      <td>GOP</td>\n",
       "      <td>0.612523</td>\n",
       "      <td>-0.490168</td>\n",
       "      <td>GOP</td>\n",
       "    </tr>\n",
       "    <tr>\n",
       "      <th>1190</th>\n",
       "      <td>4.897915</td>\n",
       "      <td>38.3</td>\n",
       "      <td>0.127515</td>\n",
       "      <td>1970-03-01</td>\n",
       "      <td>True</td>\n",
       "      <td>GOP</td>\n",
       "      <td>0.624559</td>\n",
       "      <td>-0.470709</td>\n",
       "      <td>GOP</td>\n",
       "    </tr>\n",
       "    <tr>\n",
       "      <th>1191</th>\n",
       "      <td>4.705036</td>\n",
       "      <td>38.5</td>\n",
       "      <td>0.128181</td>\n",
       "      <td>1970-04-01</td>\n",
       "      <td>True</td>\n",
       "      <td>GOP</td>\n",
       "      <td>0.603097</td>\n",
       "      <td>-0.505677</td>\n",
       "      <td>GOP</td>\n",
       "    </tr>\n",
       "    <tr>\n",
       "      <th>1192</th>\n",
       "      <td>4.124212</td>\n",
       "      <td>38.6</td>\n",
       "      <td>0.128514</td>\n",
       "      <td>1970-05-01</td>\n",
       "      <td>True</td>\n",
       "      <td>GOP</td>\n",
       "      <td>0.530020</td>\n",
       "      <td>-0.634841</td>\n",
       "      <td>GOP</td>\n",
       "    </tr>\n",
       "  </tbody>\n",
       "</table>\n",
       "</div>"
      ],
      "text/plain": [
       "          OECD   CPI   CPI_adj       Date   GOP party  real_total_return  \\\n",
       "1188  5.003093  37.9  0.126184 1970-01-01  True   GOP           0.631308   \n",
       "1189  4.828743  38.1  0.126849 1970-02-01  True   GOP           0.612523   \n",
       "1190  4.897915  38.3  0.127515 1970-03-01  True   GOP           0.624559   \n",
       "1191  4.705036  38.5  0.128181 1970-04-01  True   GOP           0.603097   \n",
       "1192  4.124212  38.6  0.128514 1970-05-01  True   GOP           0.530020   \n",
       "\n",
       "      log_real_total_return party_lag  \n",
       "1188              -0.459961      None  \n",
       "1189              -0.490168       GOP  \n",
       "1190              -0.470709       GOP  \n",
       "1191              -0.505677       GOP  \n",
       "1192              -0.634841       GOP  "
      ]
     },
     "execution_count": 16,
     "metadata": {},
     "output_type": "execute_result"
    }
   ],
   "source": [
    "from numpy import log\n",
    "\n",
    "final_df = fred_df.merge(df_gop, left_index=True, right_on='Date')\n",
    "final_df = final_df.loc[final_df['Date'] >= '1970'] # let's only consider dates later than 2007\n",
    "\n",
    "final_df['real_total_return'] = final_df['OECD'] * final_df['CPI_adj']\n",
    "final_df['log_real_total_return'] = log(final_df['real_total_return'])\n",
    "final_df['party_lag'] = final_df['party'].shift()\n",
    "\n",
    "final_df.head()"
   ]
  },
  {
   "cell_type": "code",
   "execution_count": 17,
   "id": "605b5d09-fca1-4fcb-8208-7d6b1eb7c12e",
   "metadata": {},
   "outputs": [
    {
     "data": {
      "text/html": [
       "<table class=\"simpletable\">\n",
       "<caption>OLS Regression Results</caption>\n",
       "<tr>\n",
       "  <th>Dep. Variable:</th>    <td>log_real_total_return</td> <th>  R-squared:         </th> <td>   0.090</td>\n",
       "</tr>\n",
       "<tr>\n",
       "  <th>Model:</th>                     <td>OLS</td>          <th>  Adj. R-squared:    </th> <td>   0.088</td>\n",
       "</tr>\n",
       "<tr>\n",
       "  <th>Method:</th>               <td>Least Squares</td>     <th>  F-statistic:       </th> <td>   63.22</td>\n",
       "</tr>\n",
       "<tr>\n",
       "  <th>Date:</th>               <td>Mon, 14 Oct 2024</td>    <th>  Prob (F-statistic):</th> <td>8.37e-15</td>\n",
       "</tr>\n",
       "<tr>\n",
       "  <th>Time:</th>                   <td>16:51:20</td>        <th>  Log-Likelihood:    </th> <td> -1225.4</td>\n",
       "</tr>\n",
       "<tr>\n",
       "  <th>No. Observations:</th>        <td>   642</td>         <th>  AIC:               </th> <td>   2455.</td>\n",
       "</tr>\n",
       "<tr>\n",
       "  <th>Df Residuals:</th>            <td>   640</td>         <th>  BIC:               </th> <td>   2464.</td>\n",
       "</tr>\n",
       "<tr>\n",
       "  <th>Df Model:</th>                <td>     1</td>         <th>                     </th>     <td> </td>   \n",
       "</tr>\n",
       "<tr>\n",
       "  <th>Covariance Type:</th>        <td>nonrobust</td>       <th>                     </th>     <td> </td>   \n",
       "</tr>\n",
       "</table>\n",
       "<table class=\"simpletable\">\n",
       "<tr>\n",
       "          <td></td>            <th>coef</th>     <th>std err</th>      <th>t</th>      <th>P>|t|</th>  <th>[0.025</th>    <th>0.975]</th>  \n",
       "</tr>\n",
       "<tr>\n",
       "  <th>Intercept</th>        <td>    3.1601</td> <td>    0.100</td> <td>   31.711</td> <td> 0.000</td> <td>    2.964</td> <td>    3.356</td>\n",
       "</tr>\n",
       "<tr>\n",
       "  <th>party_lag[T.GOP]</th> <td>   -1.0395</td> <td>    0.131</td> <td>   -7.951</td> <td> 0.000</td> <td>   -1.296</td> <td>   -0.783</td>\n",
       "</tr>\n",
       "</table>\n",
       "<table class=\"simpletable\">\n",
       "<tr>\n",
       "  <th>Omnibus:</th>       <td>139.120</td> <th>  Durbin-Watson:     </th> <td>   0.005</td>\n",
       "</tr>\n",
       "<tr>\n",
       "  <th>Prob(Omnibus):</th> <td> 0.000</td>  <th>  Jarque-Bera (JB):  </th> <td>  37.642</td>\n",
       "</tr>\n",
       "<tr>\n",
       "  <th>Skew:</th>          <td>-0.324</td>  <th>  Prob(JB):          </th> <td>6.70e-09</td>\n",
       "</tr>\n",
       "<tr>\n",
       "  <th>Kurtosis:</th>      <td> 2.006</td>  <th>  Cond. No.          </th> <td>    2.85</td>\n",
       "</tr>\n",
       "</table><br/><br/>Notes:<br/>[1] Standard Errors assume that the covariance matrix of the errors is correctly specified."
      ],
      "text/latex": [
       "\\begin{center}\n",
       "\\begin{tabular}{lclc}\n",
       "\\toprule\n",
       "\\textbf{Dep. Variable:}    & log\\_real\\_total\\_return & \\textbf{  R-squared:         } &     0.090   \\\\\n",
       "\\textbf{Model:}            &           OLS            & \\textbf{  Adj. R-squared:    } &     0.088   \\\\\n",
       "\\textbf{Method:}           &      Least Squares       & \\textbf{  F-statistic:       } &     63.22   \\\\\n",
       "\\textbf{Date:}             &     Mon, 14 Oct 2024     & \\textbf{  Prob (F-statistic):} &  8.37e-15   \\\\\n",
       "\\textbf{Time:}             &         16:51:20         & \\textbf{  Log-Likelihood:    } &   -1225.4   \\\\\n",
       "\\textbf{No. Observations:} &             642          & \\textbf{  AIC:               } &     2455.   \\\\\n",
       "\\textbf{Df Residuals:}     &             640          & \\textbf{  BIC:               } &     2464.   \\\\\n",
       "\\textbf{Df Model:}         &               1          & \\textbf{                     } &             \\\\\n",
       "\\textbf{Covariance Type:}  &        nonrobust         & \\textbf{                     } &             \\\\\n",
       "\\bottomrule\n",
       "\\end{tabular}\n",
       "\\begin{tabular}{lcccccc}\n",
       "                           & \\textbf{coef} & \\textbf{std err} & \\textbf{t} & \\textbf{P$> |$t$|$} & \\textbf{[0.025} & \\textbf{0.975]}  \\\\\n",
       "\\midrule\n",
       "\\textbf{Intercept}         &       3.1601  &        0.100     &    31.711  &         0.000        &        2.964    &        3.356     \\\\\n",
       "\\textbf{party\\_lag[T.GOP]} &      -1.0395  &        0.131     &    -7.951  &         0.000        &       -1.296    &       -0.783     \\\\\n",
       "\\bottomrule\n",
       "\\end{tabular}\n",
       "\\begin{tabular}{lclc}\n",
       "\\textbf{Omnibus:}       & 139.120 & \\textbf{  Durbin-Watson:     } &    0.005  \\\\\n",
       "\\textbf{Prob(Omnibus):} &   0.000 & \\textbf{  Jarque-Bera (JB):  } &   37.642  \\\\\n",
       "\\textbf{Skew:}          &  -0.324 & \\textbf{  Prob(JB):          } & 6.70e-09  \\\\\n",
       "\\textbf{Kurtosis:}      &   2.006 & \\textbf{  Cond. No.          } &     2.85  \\\\\n",
       "\\bottomrule\n",
       "\\end{tabular}\n",
       "%\\caption{OLS Regression Results}\n",
       "\\end{center}\n",
       "\n",
       "Notes: \\newline\n",
       " [1] Standard Errors assume that the covariance matrix of the errors is correctly specified."
      ],
      "text/plain": [
       "<class 'statsmodels.iolib.summary.Summary'>\n",
       "\"\"\"\n",
       "                              OLS Regression Results                             \n",
       "=================================================================================\n",
       "Dep. Variable:     log_real_total_return   R-squared:                       0.090\n",
       "Model:                               OLS   Adj. R-squared:                  0.088\n",
       "Method:                    Least Squares   F-statistic:                     63.22\n",
       "Date:                   Mon, 14 Oct 2024   Prob (F-statistic):           8.37e-15\n",
       "Time:                           16:51:20   Log-Likelihood:                -1225.4\n",
       "No. Observations:                    642   AIC:                             2455.\n",
       "Df Residuals:                        640   BIC:                             2464.\n",
       "Df Model:                              1                                         \n",
       "Covariance Type:               nonrobust                                         \n",
       "====================================================================================\n",
       "                       coef    std err          t      P>|t|      [0.025      0.975]\n",
       "------------------------------------------------------------------------------------\n",
       "Intercept            3.1601      0.100     31.711      0.000       2.964       3.356\n",
       "party_lag[T.GOP]    -1.0395      0.131     -7.951      0.000      -1.296      -0.783\n",
       "==============================================================================\n",
       "Omnibus:                      139.120   Durbin-Watson:                   0.005\n",
       "Prob(Omnibus):                  0.000   Jarque-Bera (JB):               37.642\n",
       "Skew:                          -0.324   Prob(JB):                     6.70e-09\n",
       "Kurtosis:                       2.006   Cond. No.                         2.85\n",
       "==============================================================================\n",
       "\n",
       "Notes:\n",
       "[1] Standard Errors assume that the covariance matrix of the errors is correctly specified.\n",
       "\"\"\""
      ]
     },
     "execution_count": 17,
     "metadata": {},
     "output_type": "execute_result"
    }
   ],
   "source": [
    "# Ordinary Least Squares Regression\n",
    "## Statsmodels has 2 ways of conducting regressions\n",
    "### - from a formula\n",
    "### - from design matrices\n",
    "## We'll focus on computing a regression from a formula\n",
    "from statsmodels.formula.api import ols\n",
    "\n",
    "# model formulation https://www.statsmodels.org/stable/examples/notebooks/generated/formulas.html\n",
    "#            dependent   ~ independent\n",
    "#            endogenous  ~ exodenous\n",
    "#                      y ~ x\n",
    "model = ols('log_real_total_return ~ party_lag', data=final_df) # create linear model\n",
    "fit = model.fit()                                  # run/fit the model\n",
    "\n",
    "# Note that Y is contiuous/numeric (CPI_adj_log)\n",
    "#      and X is categorical (party)\n",
    "\n",
    "fit.summary() # print out a summary of the regression; \n",
    "             # note that this did not perform well"
   ]
  },
  {
   "cell_type": "code",
   "execution_count": 18,
   "id": "cdbaa776-b4fc-4e9e-b931-70e351e6f21b",
   "metadata": {},
   "outputs": [
    {
     "data": {
      "text/plain": [
       "Text(0.0, 1.0, 'Statistically Significant Effect of Party on Real Total Returns')"
      ]
     },
     "execution_count": 18,
     "metadata": {},
     "output_type": "execute_result"
    },
    {
     "data": {
      "image/png": "[encoded data removed]",
      "text/plain": [
       "<Figure size 1000x300 with 2 Axes>"
      ]
     },
     "metadata": {},
     "output_type": "display_data"
    }
   ],
   "source": [
    "from numpy import array\n",
    "from numpy.random import default_rng\n",
    "from matplotlib.pyplot import subplots\n",
    "\n",
    "fig, (ax1, ax2) = subplots(\n",
    "    1, 2, figsize=(10, 3), gridspec_kw={'width_ratios': [2, 1]}, sharey=True\n",
    ")\n",
    "order = {'Dem': 0, 'GOP': 1}\n",
    "colors = {'Dem': 'tab:blue', 'GOP': 'tab:red'}\n",
    "\n",
    "## First plot → focus on the context of the question at hand\n",
    "ax1.fill_between(\n",
    "    final_df['Date'], final_df['log_real_total_return'], where=final_df['party_lag'] == 'GOP',\n",
    "    color=colors['GOP'], interpolate='pre',\n",
    ")\n",
    "ax1.fill_between(\n",
    "    final_df['Date'], final_df['log_real_total_return'], where=final_df['party_lag'] == 'Dem',\n",
    "    color=colors['Dem'], interpolate='pre',\n",
    ")\n",
    "\n",
    "ax1.set_ylabel('log(Real Total Return)')\n",
    "\n",
    "## Second plot → focus on the categorical linear regression\n",
    "rng = default_rng(0)\n",
    "for party, group in final_df.groupby('party_lag'):\n",
    "    ax2.scatter(\n",
    "        order[party] + rng.normal(scale=.05, size=len(group)), \n",
    "        group['log_real_total_return'],\n",
    "        s=10, alpha=.2,\n",
    "        color=colors[party]\n",
    "    )\n",
    "ax2.set_xticks([*order.values()], labels=order.keys())\n",
    "\n",
    "x = array([0, 1])\n",
    "y = (x * fit.params.loc[\"party_lag[T.GOP]\"]) + fit.params.loc['Intercept']\n",
    "ax2.plot(x, y, color='k', lw=2)\n",
    "ax2.yaxis.set_tick_params(left=True, labelleft=True)\n",
    "ax1.set_title(\n",
    "    'Statistically Significant Effect of Party on Real Total Returns', \n",
    "    size='x-large', loc='left',\n",
    "    pad=20\n",
    ")"
   ]
  },
  {
   "cell_type": "code",
   "execution_count": null,
   "id": "ed8fa84d",
   "metadata": {},
   "outputs": [],
   "source": []
  },
  {
   "cell_type": "code",
   "execution_count": null,
   "id": "0c0022cd",
   "metadata": {},
   "outputs": [],
   "source": []
  }
 ],
 "metadata": {
  "kernelspec": {
   "display_name": "Python 3 (ipykernel)",
   "language": "python",
   "name": "python3"
  },
  "language_info": {
   "codemirror_mode": {
    "name": "ipython",
    "version": 3
   },
   "file_extension": ".py",
   "mimetype": "text/x-python",
   "name": "python",
   "nbconvert_exporter": "python",
   "pygments_lexer": "ipython3",
   "version": "3.11.4"
  }
 },
 "nbformat": 4,
 "nbformat_minor": 5
}
