{
 "cells": [
  {
   "cell_type": "markdown",
   "metadata": {},
   "source": [
    "---\n",
    "title: Privacy Leakage in Large Language Models\n",
    "date: 2024-10-07\n",
    "authors:\n",
    "- name: Terry Taiming Lu\n",
    "---"
   ]
  },
  {
   "cell_type": "markdown",
   "metadata": {},
   "source": [
    "## Abstract\n",
    "\n",
    "\n",
    "Large language models (LLMs) trained on vast, often sensitive datasets can inadvertently memorize and expose private information. This study investigates how specific conditions—such as entity frequency and data repetition—contribute to privacy leakage when LLMs generate text. Using a representative web dataset, we identify the presence of personal names, geopolitical entities, and IP addresses that appear frequently and risk being replicated in model outputs. Our analysis demonstrates a positive, statistically significant correlation between the frequency of certain sensitive data in training and its likelihood of appearing in generated text. These findings underscore the need for more robust privacy-preserving strategies, including differential privacy and data anonymization techniques, to safeguard sensitive information. Our work lays a foundation for understanding the inherent vulnerabilities in LLMs and guides future research toward securing models against privacy breaches."
   ]
  },
  {
   "cell_type": "markdown",
   "metadata": {},
   "source": [
    "## Introduction\n",
    "\n",
    "Imagine a world where the very technology that powers our daily lives—answering our questions, assisting in our work, and even entertaining us—becomes a potential threat to our privacy. As large language models (LLMs) continue to evolve, trained on enormous amounts of data, including sensitive personal details, the risk of unintentional privacy leaks grows. Understanding these risks requires a closer examination of how LLMs operate and the potential vulnerabilities inherent in their design, particularly when handling sensitive information.\n",
    "\n",
    "By processing vast amounts of sensitive data, ranging from personal consumer details to government-held records, LLMs and other deep learning systems can unintentionally expose confidential information, leading to significant financial and reputational harm. These privacy leaks pose not only a direct economic cost—such as regulatory fines, litigation expenses, and erosion of consumer trust—but also broader impacts on innovation and market efficiency.\n",
    "\n",
    "In this paper, we investigate the mechanisms behind privacy leaks in LLMs. Specifically, we examine how training datasets, often containing personal identifiers and other sensitive information, contribute to memorization and subsequent leakage during inference. Using quantitative analysis, we explore the extent to which sensitive tokens—such as names, addresses, and network identifiers—are memorized, focusing on their frequency and distribution in the data . Our analysis demonstrates a positive correlation between data occurrence in the training corpus and its generation probability during inference. This suggests that the more frequently sensitive information appears in the training data, the higher the likelihood of it being memorized and subsequently leaked by the model.\n",
    "\n",
    "By focusing on this correlation, we aim to provide a clear understanding of how leakage risks are amplified by certain training data characteristics. This work emphasizes the importance of careful dataset curation and privacy-preserving preprocessing techniques to minimize the potential for sensitive information exposure.\n",
    "\n",
    "Our contribution is two-fold:\n",
    "\n",
    "1. We provided quatitative analysis on privacy leakage in internal snapshots popular for training large language models.\n",
    "2. We analyze the specific vulnerabilities within LLMs that lead to privacy leaks, providing a technical overview of how private information may be inadvertently exposed.\n"
   ]
  },
  {
   "cell_type": "markdown",
   "metadata": {},
   "source": [
    "\n",
    "## Background\n",
    "\n",
    "\n",
    "**Large Language Models.** Large Language Models (LLMs) have emerged as transformative technologies in artificial intelligence, capable of performing various tasks such as natural language understanding, text generation, and translation {cite}`attention_vaswani_2017,unsupervised_radford_2019,limits_raffel_2020`. These models, such as GPT-3 {cite}`fewshot_brown_2020` and BERT {cite}`bert_devlin_2019`, are trained on massive datasets from diverse sources, including books, articles, and websites, enabling them to generate coherent and contextually appropriate text. Their capabilities make LLMs valuable across domains such as customer service, content creation, research assistance, healthcare {cite}`healthcare_esteva_2019`, and legal document processing {cite}`legal_bommarito_2018`. However, LLMs also present significant privacy challenges. During training, these models can inadvertently memorize sensitive or personally identifiable information, potentially exposing it during inference {cite}`extracting_carlini_2021`. Such privacy leaks have raised concerns about their use in real-world applications, where the risk of exposing confidential information could have serious legal and economic repercussions {cite}`membership_shokri_2017,privacy_jayaraman_2019`. Addressing these risks requires the development of privacy-preserving techniques such as differential privacy {cite}`differential_abadi_2016` and data anonymization, as well as robust regulatory frameworks to protect data while fostering innovation {cite}`malicious_brundage_2018`.\n",
    "\n",
    "**Data Privacy and Utility in AI Models.** The balance between data privacy and utility is a crucial issue, particularly in the context of large-scale AI models. Differential privacy has emerged as a popular solution to protect sensitive information in datasets, but it often introduces significant noise, leading to reduced data accuracy and economic inefficiencies {cite}`privacy_ruggles_2024`. This trade-off has been further examined in the context of health disparities, where privacy measures disproportionately distort data for smaller populations, raising concerns about fairness and resource allocation {cite}`differential_santoslozada_2020`.\n",
    "Traditional statistical disclosure methods have been defended as viable alternatives, suggesting that newer techniques like differential privacy may not always offer superior protection without substantial economic costs {cite}`rejoinder_muralidhar_2023`. In response, optimization frameworks have been proposed to find a middle ground, allowing for both privacy and data utility, though they require careful balancing to avoid significant losses in either area {cite}`balancing_hotz_2022`.\n",
    "The risks associated with privacy leakage from AI models, particularly in high-stakes sectors like healthcare and finance, underscore the need for better privacy-preserving techniques. Misuse of privacy mechanisms can lead to economic losses through reduced data reliability and non-compliance with regulations, making this a critical area for future research {cite}`limits_domingoferrer_2021`.\n"
   ]
  },
  {
   "cell_type": "markdown",
   "metadata": {},
   "source": [
    "## Privacy Leakage in LLMs\n",
    "\n",
    "\n",
    "### Problem Formulation\n",
    "\n",
    "The primary objective of this study is to investigate the potential privacy risks associated with large language models (LLMs). Specifically, we aim to understand how and under what conditions LLMs memorize sensitive information from their training data and how likely it is that such information can be exposed during inference. We focus on answering the following key questions:\n",
    "\n",
    "1. **To what extent do LLMs memorize sensitive information during training?**\n",
    "2. **What factors influence the likelihood of privacy leakage in LLMs?**\n",
    "\n",
    "The goal is to quantify the trade-off between model utility and privacy risk, providing insight into how to train LLMs while minimizing the potential for privacy breaches.\n"
   ]
  },
  {
   "cell_type": "markdown",
   "metadata": {},
   "source": [
    "### Method\n",
    "\n",
    "The method used in this study aims to analyze privacy leakage risks in LLMs through simple data analysis and visualization techniques.\n",
    "\n",
    "#### 1. Data Collection\n",
    "\n",
    "We used the FineWeb dataset (Penedo et al., 2024), which is designed to provide high-quality text data from the web at scale. This dataset was selected due to its diverse content, which allowed us to analyze potential privacy risks associated with LLMs. In addition, we generated synthetic data that included specific sensitive information, such as randomly generated names and addresses. This allowed us to evaluate whether LLMs could potentially memorize and expose sensitive information.\n",
    "\n",
    "#### 2. Data Analysis\n",
    "\n",
    "We analyzed the dataset to identify patterns that could lead to privacy risks. Specifically, we looked at the frequency of sensitive information, such as names and addresses, and explored whether these data points are repeated across different parts of the dataset. This analysis helped us understand the characteristics of the data that could contribute to privacy leakage.\n",
    "\n",
    "#### 3. Privacy Leakage Evaluation\n",
    "\n",
    "To evaluate privacy leakage, we used a simple visualization approach:\n",
    "\n",
    "- **Data Visualization**: We visualized the frequency and distribution of sensitive information in the dataset using bar charts and histograms. This helped us identify which types of sensitive information were most at risk of being memorized by LLMs.\n",
    "\n",
    "#### 4. Privacy-Preserving Techniques\n",
    "\n",
    "We explored privacy-preserving techniques, such as differential privacy, by simulating the effect of adding noise to the dataset. This allowed us to visualize how privacy-preserving methods could alter the data distribution and reduce the likelihood of sensitive information being memorized.\n",
    "\n",
    "#### 5. Impact on LLMs\n",
    "\n",
    "We also analyze the generation of the state-of-the-art AI model, GPT4-o, to determine if it is influenced by privacy leakage. Specifically, we examine the correlation between the frequency of specific privacy information occurrences in the training data and the probability of GPT4-o generating such data. In this work, we measure how privacy exposure impacts the model's outputs by quantifying and comparing instances where private data appears in the generated text. Our approach involves detailed analysis of training data samples and generated outputs, aiming to identify patterns that reveal potential privacy vulnerabilities.\n",
    "\n",
    "#### 6. Metrics\n",
    "\n",
    "We used the following metrics for evaluation:\n",
    "\n",
    "- **Frequency of Sensitive Information**: The occurrence of specific sensitive data points within the dataset.\n",
    "- **Impact of Noise Addition**: A comparison of the dataset before and after applying differential privacy techniques to evaluate changes in data distribution.\n",
    "\n",
    "\n",
    "### 6. Experimental Setup\n",
    "\n",
    "To analyze privacy leakage patterns in large language models, we conduct experiments using two primary components: (1) the FineWeb dataset for analyzing sensitive information distribution patterns, and (2) GPT-4's token generation behavior when encountering privacy-related information.\n",
    "\n",
    "#### 6.1 Dataset\n",
    "We utilize the FineWeb dataset, which consists of web snapshots containing internal organizational content. For our analysis, we extract documents containing potential privacy-sensitive information such as personal identifiers, internal codes, and organizational metadata. The dataset preprocessing involves:\n",
    "\n",
    "1) Filtering documents containing privacy-sensitive information using regular expression patterns\n",
    "2) Extracting relevant metadata including timestamp and document context\n",
    "3) Tokenizing the documents using the same tokenizer as GPT-4 to ensure consistency in token-level analysis\n",
    "\n",
    "#### 6.2 Token Generation Analysis\n",
    "To understand how privacy-sensitive information influences token generation probabilities, we analyze GPT-4's behavior through the following steps:\n",
    "\n",
    "1) We identify sequences containing privacy-sensitive information in our dataset\n",
    "2) For each sequence S = {t₁, t₂, ..., tₙ} where tᵢ represents tokens:\n",
    "   - We calculate P(tᵢ|t₁...tᵢ₋₁), the conditional probability of generating the next token\n",
    "   - We measure the model's perplexity on privacy-sensitive sequences\n",
    "   - We track the frequency of privacy-sensitive token generation in different contexts\n",
    "\n",
    "The probability of generating privacy-sensitive information is calculated as:\n",
    "\n",
    "P(sensitive|context) = ∏ᵢ P(tᵢ|t₁...tᵢ₋₁)\n",
    "\n",
    "where tᵢ belongs to the identified privacy-sensitive sequence.\n",
    "\n",
    "#### 6.3 Measurement Metrics\n",
    "We employ the following metrics to quantify privacy leakage:\n",
    "\n",
    "1) Token Generation Probability (TGP):\n",
    "   - Measures the likelihood of generating privacy-sensitive tokens\n",
    "   - Calculated across different context lengths and types"
   ]
  },
  {
   "cell_type": "markdown",
   "metadata": {},
   "source": [
    "## Results\n",
    "\n",
    "![image info](./pics/analysis_regression.png)\n",
    "![image info](./pics/pii_count_by_type.png)\n",
    "![image info](./pics/pii_rate_per_document.png)\n",
    "![image info](./pics/top_entities_person.png)\n",
    "![image info](./pics/top_entities_email.png)\n",
    "![image info](./pics/top_entities_ip_address.png)"
   ]
  },
  {
   "cell_type": "markdown",
   "metadata": {},
   "source": [
    "\n",
    "## Analysis\n",
    "\n",
    "\n",
    "### Data Privacy Leakage Distribution\n",
    "\n",
    "#### 1. PII Type Distribution\n",
    "The bar chart in Figure 2 shows the total count of various PII (Personally Identifiable Information) types detected across the dataset. The data indicates that \"PERSON\" entities are the most frequent, followed by \"GPE\" (Geopolitical Entities). Other PII types such as phone numbers and email addresses have significantly lower frequencies. This distribution emphasizes the potential risk areas for privacy leakage, particularly in the context of models trained on extensive text sources that may contain personal or organizational data.\n",
    "\n",
    "#### 2. PII Occurrence Rate per Document\n",
    "Figure 3 presents the rate of each PII type's occurrence per document, showcasing how prevalent each type of sensitive information is within individual documents. The analysis points out that both \"PERSON\" and \"GPE\" entities are present in over 50% of documents, making them the most common types of sensitive information. This high occurrence rate poses a notable risk for privacy exposure in model outputs.\n",
    "\n",
    "#### 3. Detailed Analysis of \"PERSON\" Entities\n",
    "Figure 4 highlights the top 50 most frequent \"PERSON\" entities in the dataset, with \"Obama\" appearing most frequently, followed by \"Jesus\" and other common names. This breakdown underscores the memorization risk associated with high-frequency names, which are more likely to be generated by LLMs when prompted, potentially exposing sensitive or context-specific information.\n",
    "\n",
    "#### 4. Analysis of \"IP_ADDRESS\" Entities\n",
    "Figure 5 showcases the top 50 most frequent \"IP_ADDRESS\" entities detected in the dataset. The results indicate a range of public and private IP addresses, with some appearing more than 15 times. Although the presence of public or commonly used IP addresses may not always pose privacy risks, the repeated appearance of certain private IP addresses or those associated with internal networks highlights a potential source of unintended privacy exposure."
   ]
  },
  {
   "cell_type": "markdown",
   "metadata": {},
   "source": [
    "### Effect of Data Privacy Leakage on LLMs\n",
    "\n",
    "#### 1.Regression Analysis and Statistical Significance\n",
    "The linear regression analysis provides further insights into the relationship between occurrences and generation probabilities. The fitted regression line has a **slope** of approximately 0.0004, indicating a positive but modest increase in generation probability as occurrences rise. The **intercept** of approximately -0.0899 suggests that when occurrences approach zero, the baseline generation probability is slightly negative, though this value mainly serves as a reference point within the context of the model.\n",
    "\n",
    "The **R-squared** value of approximately 0.3442 demonstrates that around 34.4% of the variability in generation probability can be explained by the normalized occurrences in training data. While this indicates a moderate relationship, the unexplained variability suggests other contributing factors, such as specific model biases or data context.\n",
    "\n",
    "The **p-value** for the slope, approximately \\(1.17 \\times 10^{-5}\\), indicates strong statistical significance at conventional thresholds (e.g., 0.05). This result supports the hypothesis that there is a meaningful linear relationship between occurrences in training data and generation probability. The **standard error** of approximately 0.0000844 provides an estimate of the precision of the slope, suggesting that while there is variability, the estimate is reliable.\n",
    "\n",
    "#### 2. Implications of the Findings\n",
    "These results emphasize that while there is a statistically significant positive correlation between data occurrences and generation probabilities, the strength of this correlation is moderate. This aligns with the observed trend where more frequently occurring data points in the training set tend to appear more often during inference.\n",
    "\n",
    "Understanding these dynamics can be crucial for evaluating the robustness and privacy implications of LLMs. For instance, an elevated generation probability for rare training examples could expose memorized content, raising concerns about the model's handling of sensitive or proprietary information. This confirms that data leakage can trickle down to LLM behavior, where even rare or isolated data points, if memorized, can surface during inference, posing privacy risks. As highlighted in the analysis, the presence of outliers in the data suggests that LLMs might retain specific details that extend beyond their intended training distribution, leading to potential inadvertent disclosures. This underscores the importance of scrutinizing LLMs not just for overall performance but also for vulnerabilities in handling sensitive or infrequent data."
   ]
  },
  {
   "cell_type": "markdown",
   "metadata": {},
   "source": [
    "## Conclusion\n",
    "\n",
    "This study underscores the critical need for privacy-preserving strategies in large language models (LLMs), revealing that sensitive information exists in the training data of our AI chatbot and can impact generation, making privacy-sensitive content more likely to appear. Specific entities, such as \"PERSON\" and \"GPE,\" are particularly prone to reoccurrence in outputs due to their frequency in training data, while even unique data points, like names and IP addresses, may be memorized and generated. Addressing these risks is essential for regulatory compliance, user trust, and sustainable AI development. Privacy-preserving techniques, such as differential privacy and data anonymization, can mitigate these risks, and comprehensive regulatory frameworks will be crucial to balancing privacy, data utility, and innovation, fostering responsible AI. This study provides foundational insights into privacy leaks in LLMs and emphasizes the importance of ongoing research to ensure safe and ethical AI deployment."
   ]
  },
  {
   "cell_type": "markdown",
   "metadata": {},
   "source": [
    "\n",
    "\n",
    "## Bibliography\n",
    "\n",
    "```{bibliography}\n",
    ":style: unsrt\n"
   ]
  },
  {
   "cell_type": "markdown",
   "metadata": {},
   "source": []
  }
 ],
 "metadata": {
  "kernelspec": {
   "display_name": "econ",
   "language": "python",
   "name": "python3"
  },
  "language_info": {
   "name": "python",
   "version": "3.11.10"
  }
 },
 "nbformat": 4,
 "nbformat_minor": 2
}
