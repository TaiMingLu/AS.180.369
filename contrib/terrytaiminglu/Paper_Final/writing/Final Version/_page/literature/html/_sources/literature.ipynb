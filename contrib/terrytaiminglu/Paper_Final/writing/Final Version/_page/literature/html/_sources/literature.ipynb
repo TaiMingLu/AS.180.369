{
 "cells": [
  {
   "cell_type": "markdown",
   "metadata": {},
   "source": [
    "---\n",
    "title: Privacy Leakage in Large Language Models\n",
    "date: 2024-10-07\n",
    "authors:\n",
    "- name: Terry Taiming Lu\n",
    "---"
   ]
  },
  {
   "cell_type": "markdown",
   "metadata": {},
   "source": [
    "## Abstract\n",
    "\n",
    "\n",
    "Large language models (LLMs) trained on vast, often sensitive datasets can inadvertently memorize and expose private information. This study investigates how specific conditions—such as entity frequency and data repetition—contribute to privacy leakage when LLMs generate text. Using a representative web dataset, we identify the presence of personal names, geopolitical entities, and IP addresses that appear frequently and risk being replicated in model outputs. Our analysis demonstrates a positive, statistically significant correlation between the frequency of certain sensitive data in training and its likelihood of appearing in generated text. These findings underscore the need for more robust privacy-preserving strategies, including differential privacy and data anonymization techniques, to safeguard sensitive information. Our work lays a foundation for understanding the inherent vulnerabilities in LLMs and guides future research toward securing models against privacy breaches."
   ]
  },
  {
   "cell_type": "markdown",
   "metadata": {},
   "source": [
    "## Introduction\n",
    "\n",
    "Imagine a world where the very technology that powers our daily lives—answering our questions, assisting in our work, and even entertaining us—becomes a potential threat to our privacy. As large language models (LLMs) continue to evolve, trained on enormous amounts of data, including sensitive personal details, the risk of unintentional privacy leaks grows. Understanding these risks requires a closer examination of how LLMs operate and the potential vulnerabilities inherent in their design, particularly when handling sensitive information.\n",
    "\n",
    "By processing vast amounts of sensitive data, ranging from personal consumer details to government-held records, LLMs and other deep learning systems can unintentionally expose confidential information, leading to significant financial and reputational harm. These privacy leaks pose not only a direct economic cost—such as regulatory fines, litigation expenses, and erosion of consumer trust—but also broader impacts on innovation and market efficiency.\n",
    "\n",
    "In this paper, we investigate the mechanisms behind privacy leaks in LLMs. Specifically, we examine how training datasets, often containing personal identifiers and other sensitive information, contribute to memorization and subsequent leakage during inference. Using quantitative analysis, we explore the extent to which sensitive tokens—such as names, addresses, and network identifiers—are memorized, focusing on their frequency and distribution in the data . Our analysis demonstrates a positive correlation between data occurrence in the training corpus and its generation probability during inference. This suggests that the more frequently sensitive information appears in the training data, the higher the likelihood of it being memorized and subsequently leaked by the model.\n",
    "\n",
    "By focusing on this correlation, we aim to provide a clear understanding of how leakage risks are amplified by certain training data characteristics. This work emphasizes the importance of careful dataset curation and privacy-preserving preprocessing techniques to minimize the potential for sensitive information exposure.\n",
    "\n",
    "Our contribution is two-fold:\n",
    "\n",
    "1. We provided quatitative analysis on privacy leakage in internal snapshots popular for training large language models.\n",
    "2. We analyze the specific vulnerabilities within LLMs that lead to privacy leaks, providing a technical overview of how private information may be inadvertently exposed.\n"
   ]
  },
  {
   "cell_type": "markdown",
   "metadata": {},
   "source": [
    "|## Background\n",
    "\n",
    "\n",
    "**Large Language Models.** Large Language Models (LLMs) have emerged as transformative technologies in artificial intelligence, capable of performing various tasks such as natural language understanding, text generation, and translation {cite}`attention_vaswani_2017,unsupervised_radford_2019,limits_raffel_2020`. These models, such as GPT-3 {cite}`fewshot_brown_2020` and BERT {cite}`bert_devlin_2019`, are trained on massive datasets from diverse sources, including books, articles, and websites, enabling them to generate coherent and contextually appropriate text. Their capabilities make LLMs valuable across domains such as customer service, content creation, research assistance, healthcare {cite}`healthcare_esteva_2019`, and legal document processing {cite}`legal_bommarito_2018`. However, LLMs also present significant privacy challenges. During training, these models can inadvertently memorize sensitive or personally identifiable information, potentially exposing it during inference {cite}`extracting_carlini_2021`. Such privacy leaks have raised concerns about their use in real-world applications, where the risk of exposing confidential information could have serious legal and economic repercussions {cite}`membership_shokri_2017,privacy_jayaraman_2019`. Addressing these risks requires the development of privacy-preserving techniques such as differential privacy {cite}`differential_abadi_2016` and data anonymization, as well as robust regulatory frameworks to protect data while fostering innovation {cite}`malicious_brundage_2018`.\n",
    "\n",
    "**Data Privacy and Utility in AI Models.** The balance between data privacy and utility is a crucial issue, particularly in the context of large-scale AI models. Differential privacy has emerged as a popular solution to protect sensitive information in datasets, but it often introduces significant noise, leading to reduced data accuracy and economic inefficiencies {cite}`privacy_ruggles_2024`. This trade-off has been further examined in the context of health disparities, where privacy measures disproportionately distort data for smaller populations, raising concerns about fairness and resource allocation {cite}`differential_santoslozada_2020`.\n",
    "Traditional statistical disclosure methods have been defended as viable alternatives, suggesting that newer techniques like differential privacy may not always offer superior protection without substantial economic costs {cite}`rejoinder_muralidhar_2023`. In response, optimization frameworks have been proposed to find a middle ground, allowing for both privacy and data utility, though they require careful balancing to avoid significant losses in either area {cite}`balancing_hotz_2022`.\n",
    "The risks associated with privacy leakage from AI models, particularly in high-stakes sectors like healthcare and finance, underscore the need for better privacy-preserving techniques. Misuse of privacy mechanisms can lead to economic losses through reduced data reliability and non-compliance with regulations, making this a critical area for future research {cite}`limits_domingoferrer_2021`.\n"
   ]
  },
  {
   "cell_type": "markdown",
   "metadata": {},
   "source": [
    "## Privacy Leakage in LLMs\n",
    "\n",
    "\n",
    "### Problem Formulation\n",
    "\n",
    "The primary objective of this study is to investigate the potential privacy risks associated with large language models (LLMs). Specifically, we aim to understand how and under what conditions LLMs memorize sensitive information from their training data and how likely it is that such information can be exposed during inference. We focus on answering the following key questions:\n",
    "\n",
    "1. **To what extent do LLMs memorize sensitive information during training?**\n",
    "2. **What factors influence the likelihood of privacy leakage in LLMs?**\n",
    "\n",
    "The goal is to quantify the trade-off between model utility and privacy risk, providing insight into how to train LLMs while minimizing the potential for privacy breaches.\n"
   ]
  },
  {
   "cell_type": "markdown",
   "metadata": {},
   "source": [
    "### Method\n",
    "\n",
    "The methodology focuses on analyzing privacy leakage risks in large language models (LLMs) by identifying correlations between the occurrence of sensitive information in training data and its likelihood of being generated during inference. The approach involves defining sensitive information patterns, evaluating token generation probabilities, and employing quantitative metrics to assess privacy risks.\n",
    "\n",
    "#### Analytical Framework\n",
    "\n",
    "1. **Token Generation Analysis**\n",
    "   - Identify sequences $S = \\{t_1, t_2, \\ldots, t_n\\}$ in the training data containing privacy-sensitive tokens.\n",
    "   - Calculate the conditional probability $P(t_i | t_1, \\ldots, t_{i-1})$ for each token $t_i$ in the sequence to evaluate the likelihood of generating the next token.\n",
    "   - Aggregate these probabilities over the identified sequences to compute the overall likelihood of generating sensitive information:\n",
    "\n",
    "   $\n",
    "   P(\\text{sensitive} | \\text{context}) = \\prod_{i} P(t_i | t_1, \\ldots, t_{i-1}),\n",
    "   $\n",
    "\n",
    "   where $t_i$ belongs to the sensitive sequence.\n",
    "\n",
    "2. **Correlation Analysis**\n",
    "   - Measure the frequency of sensitive data occurrences in the training dataset.\n",
    "   - Quantify the relationship between this frequency and the likelihood of such data being generated during inference. This analysis identifies trends linking higher data occurrence to increased generation probabilities.\n",
    "\n",
    "3. **Quantitative Metrics**\n",
    "   - **Token Generation Probability (TGP):** Measures the likelihood of generating tokens associated with sensitive information during inference.\n",
    "   - **Perplexity:** Evaluates how well the model predicts privacy-sensitive sequences, with lower perplexity indicating higher memorization.\n",
    "   - **Frequency Analysis:** Tracks the distribution of sensitive information within the training dataset to identify high-risk categories."
   ]
  },
  {
   "cell_type": "markdown",
   "metadata": {},
   "source": [
    "\n",
    "### Experimental Setup\n",
    "\n",
    "The experiments were conducted using the FineWeb dataset {cite}`penedo2024finewebdatasetsdecantingweb`, a high-quality web-based corpus, alongside synthetic data containing intentionally generated sensitive information. The following steps outline the experimental setup:\n",
    "\n",
    "#### Dataset Preparation\n",
    "\n",
    "1. **Data Selection**\n",
    "   - The FineWeb dataset was chosen for its diverse content and relevance to real-world applications. It includes web snapshots, organizational documents, and other text sources.\n",
    "   - Synthetic data was generated to include randomized sensitive information, such as names, addresses, and network identifiers, to test the model's handling of privacy-sensitive inputs.\n",
    "\n",
    "2. **Data Preprocessing**\n",
    "   - **Filtering Sensitive Content:** Using regular expressions, documents containing PII (e.g., names, addresses, IP addresses) were extracted.\n",
    "   - **Metadata Extraction:** Timestamp and contextual metadata were included for additional analysis.\n",
    "   - **Tokenization:** Data was tokenized using GPT-4’s tokenizer to ensure compatibility with the model.\n",
    "\n",
    "#### Model Evaluation\n",
    "\n",
    "1. **Token Generation Analysis**\n",
    "   - The model was prompted with contexts derived from the training data containing sensitive sequences.\n",
    "   - Conditional probabilities $P(t_i | t_1, \\ldots, t_{i-1})$ were calculated for tokens within privacy-sensitive sequences.\n",
    "   - The frequency of generating sensitive tokens in different contexts was recorded.\n",
    "\n",
    "2. **Quantitative Assessment**\n",
    "   - Metrics such as Token Generation Probability (TGP) and perplexity were used to evaluate the model's behavior on privacy-sensitive data.\n",
    "   - Correlation analysis between training data frequency and generation likelihood provided insights into the relationship between data occurrence and privacy risks."
   ]
  },
  {
   "cell_type": "markdown",
   "metadata": {},
   "source": [
    "## Results\n",
    "![image info](./pics/pii_count_by_type.png)\n",
    "\n",
    "**Figure 1**: *PII Count by Type*. This bar chart displays the total count of various types of Personally Identifiable Information (PII) detected in the dataset. The analysis highlights \"PERSON\" entities as the most frequent, followed by \"GPE\" (Geopolitical Entities), while phone numbers and email addresses appear less frequently.\n",
    "\n",
    "![image info](./pics/pii_rate_per_document.png)\n",
    "\n",
    "**Figure 2**: *PII Rate per Document*. This plot shows the average rate of occurrence of each PII type per document in the dataset. \"PERSON\" and \"GPE\" entities are the most prevalent, occurring in over 50% of the documents, indicating significant potential privacy risks.\n",
    "\n",
    "![image info](./pics/top_entities_person.png)\n",
    "\n",
    "**Figure 3**: *Top Entities: PERSON*. This visualization lists the top 50 most frequent \"PERSON\" entities detected in the dataset. Names such as \"Obama\" and \"Jesus\" dominate the list, highlighting the potential for memorization of high-frequency names.\n",
    "\n",
    "![image info](./pics/top_entities_email.png)\n",
    "\n",
    "**Figure 4**: *Top Entities: EMAIL*. This chart illustrates the most frequent email addresses identified in the dataset. While some addresses appear innocuous, their frequent occurrence underscores the risk of privacy leaks involving sensitive communications.\n",
    "\n",
    "![image info](./pics/top_entities_ip_address.png)\n",
    "\n",
    "**Figure 5**: *Top Entities: IP Address*. The most common IP addresses detected in the dataset are shown here. Both public and private IP addresses appear, with certain private addresses posing a higher risk of unintended exposure if memorized by the model.\n",
    "\n",
    "![image info](./pics/analysis_regression.png)\n",
    "\n",
    "**Figure 6**: *Regression Analysis on Data Occurrence and Generation Probability*. This scatter plot with a fitted regression line shows the relationship between the frequency of sensitive data in the training dataset and the likelihood of it being generated by the model. The positive slope indicates a statistically significant correlation, with higher frequency data being more likely to reappear in the outputs. Statistical details, such as the \\( R^2 \\) value and p-value, support the strength and significance of the relationship. "
   ]
  },
  {
   "cell_type": "markdown",
   "metadata": {},
   "source": [
    "\n",
    "## Analysis\n",
    "\n",
    "\n",
    "### Data Privacy Leakage Distribution\n",
    "\n",
    "#### 1. PII Type Distribution\n",
    "The bar chart in Figure 2 shows the total count of various PII (Personally Identifiable Information) types detected across the dataset. The data indicates that \"PERSON\" entities are the most frequent, followed by \"GPE\" (Geopolitical Entities). Other PII types such as phone numbers and email addresses have significantly lower frequencies. This distribution emphasizes the potential risk areas for privacy leakage, particularly in the context of models trained on extensive text sources that may contain personal or organizational data.\n",
    "\n",
    "#### 2. PII Occurrence Rate per Document\n",
    "Figure 3 presents the rate of each PII type's occurrence per document, showcasing how prevalent each type of sensitive information is within individual documents. The analysis points out that both \"PERSON\" and \"GPE\" entities are present in over 50% of documents, making them the most common types of sensitive information. This high occurrence rate poses a notable risk for privacy exposure in model outputs.\n",
    "\n",
    "#### 3. Detailed Analysis of \"PERSON\" Entities\n",
    "Figure 4 highlights the top 50 most frequent \"PERSON\" entities in the dataset, with \"Obama\" appearing most frequently, followed by \"Jesus\" and other common names. This breakdown underscores the memorization risk associated with high-frequency names, which are more likely to be generated by LLMs when prompted, potentially exposing sensitive or context-specific information.\n",
    "\n",
    "#### 4. Analysis of \"IP_ADDRESS\" Entities\n",
    "Figure 5 showcases the top 50 most frequent \"IP_ADDRESS\" entities detected in the dataset. The results indicate a range of public and private IP addresses, with some appearing more than 15 times. Although the presence of public or commonly used IP addresses may not always pose privacy risks, the repeated appearance of certain private IP addresses or those associated with internal networks highlights a potential source of unintended privacy exposure."
   ]
  },
  {
   "cell_type": "markdown",
   "metadata": {},
   "source": [
    "### Effect of Data Privacy Leakage on LLMs\n",
    "\n",
    "#### 1.Regression Analysis and Statistical Significance\n",
    "The linear regression analysis provides further insights into the relationship between occurrences and generation probabilities. The fitted regression line has a **slope** of approximately 0.087, indicating a positive but modest increase in generation probability as occurrences rise. The **intercept** of approximately 0.4163 suggests that when occurrences approach zero, the baseline generation probability is slightly negative, meaning if the sample never occurs in training data, it won't be generated.\n",
    "\n",
    "\n",
    "The **p-value** for the slope, approximately $9.6 \\times 10^{-3}$, indicates strong statistical significance at conventional thresholds (e.g., 0.05). This result supports the hypothesis that there is a meaningful linear relationship between occurrences in training data and generation probability. The **standard error** of approximately 0.0000844 provides an estimate of the precision of the slope, suggesting that while there is variability, the estimate is reliable.\n",
    "\n",
    "#### 2. Implications of the Findings\n",
    "These results emphasize that while there is a statistically significant positive correlation between data occurrences and generation probabilities, the strength of this correlation is moderate. This aligns with the observed trend where more frequently occurring data points in the training set tend to appear more often during inference.  In simple terms, the more a piece of sensitive information is repeated in the training data, the more likely the model is to remember and accidentally reveal it.\n",
    "\n",
    "Understanding these dynamics can be crucial for evaluating the robustness and privacy implications of LLMs. For instance, an elevated generation probability for rare training examples could expose memorized content, raising concerns about the model's handling of sensitive or proprietary information. This confirms that data leakage can trickle down to LLM behavior, where even rare or isolated data points, if memorized, can surface during inference, posing privacy risks. As highlighted in the analysis, the presence of outliers in the data suggests that LLMs might retain specific details that extend beyond their intended training distribution, leading to potential inadvertent disclosures. This underscores the importance of scrutinizing LLMs not just for overall performance but also for vulnerabilities in handling sensitive or infrequent data."
   ]
  },
  {
   "cell_type": "markdown",
   "metadata": {},
   "source": [
    "## Conclusion\n",
    "\n",
    "This study underscores the critical need for privacy-preserving strategies in large language models (LLMs), revealing that sensitive information exists in the training data of our AI chatbot and can impact generation, making privacy-sensitive content more likely to appear. Specific entities, such as \"PERSON\" and \"GPE,\" are particularly prone to reoccurrence in outputs due to their frequency in training data, while even unique data points, like names and IP addresses, may be memorized and generated. Addressing these risks is essential for regulatory compliance, user trust, and sustainable AI development. Privacy-preserving techniques, such as differential privacy and data anonymization, can mitigate these risks, and comprehensive regulatory frameworks will be crucial to balancing privacy, data utility, and innovation, fostering responsible AI. This study provides foundational insights into privacy leaks in LLMs and emphasizes the importance of ongoing research to ensure safe and ethical AI deployment."
   ]
  },
  {
   "cell_type": "markdown",
   "metadata": {},
   "source": [
    "\n",
    "\n",
    "## Bibliography\n",
    "\n",
    "```{bibliography}\n",
    ":style: unsrt\n"
   ]
  },
  {
   "cell_type": "markdown",
   "metadata": {},
   "source": []
  }
 ],
 "metadata": {
  "kernelspec": {
   "display_name": "econ",
   "language": "python",
   "name": "python3"
  },
  "language_info": {
   "name": "python",
   "version": "3.11.10"
  }
 },
 "nbformat": 4,
 "nbformat_minor": 2
}
