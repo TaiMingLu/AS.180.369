{
 "cells": [
  {
   "cell_type": "markdown",
   "metadata": {
    "slideshow": {
     "slide_type": "slide"
    }
   },
   "source": [
    "# Analyzing Privacy Leakage Patterns in Large Language Models\n",
    "\n",
    "#### A Statistical Study of Data Exposure and Generation\n",
    "\n",
    "#### TaiMing Lu"
   ]
  },
  {
   "cell_type": "markdown",
   "metadata": {
    "slideshow": {
     "slide_type": "slide"
    }
   },
   "source": [
    "<div style=\"text-align: center;\">\n",
    "    <h3>Large Language Models have taken us by surprise</h3>\n",
    "    <img src=\"pics/llms.png\" alt=\"LLMs Image\" style=\"width:100%; margin-top:20px;\">\n",
    "</div>"
   ]
  },
  {
   "cell_type": "markdown",
   "metadata": {
    "slideshow": {
     "slide_type": "slide"
    }
   },
   "source": [
    "<div style=\"text-align: center;\">\n",
    "    <h3>Large Language Models have taken us by surprise</h3>\n",
    "    <p style=\"font-size: 1.2em; margin-top: 10px;\">\n",
    "        - Trained on datasets exceeding <b>1 trillion tokens</b>.<br>\n",
    "        - Model sizes surpassing <b>175 billion parameters</b> (e.g., GPT-3).<br>\n",
    "        - Adoption across <b>50+ industries</b>, transforming productivity and innovation.<br>\n",
    "        - Generating <b>100 billion words daily</b> on average.\n",
    "    </p>\n",
    "    <img src=\"pics/llms_statistics.png\" alt=\"LLMs Statistics\" style=\"width:60%; margin-top:20px;\">\n",
    "</div>\n"
   ]
  },
  {
   "cell_type": "markdown",
   "metadata": {
    "slideshow": {
     "slide_type": "slide"
    }
   },
   "source": [
    "<div style=\"text-align: center;\">\n",
    "    <h3>Key Questions We Address</h3>\n",
    "    <div style=\"display: flex; flex-direction: column; align-items: center; margin: 30px 0;\">\n",
    "        <div style=\"background: #f5f5f5; padding: 20px; margin: 10px 0; border-radius: 10px; width: 80%; text-align: left;\">\n",
    "            <h4>1. How much sensitive information do LLMs memorize?</h4>\n",
    "            <p style=\"color: #666;\">Analyzing patterns of PII retention in training data</p>\n",
    "        </div>\n",
    "        <div style=\"background: #f5f5f5; padding: 20px; margin: 10px 0; border-radius: 10px; width: 80%; text-align: left;\">\n",
    "            <h4>2. What factors influence privacy leakage?</h4>\n",
    "            <p style=\"color: #666;\">Investigating the relationship between data occurrence and generation probability</p>\n",
    "        </div>\n",
    "    </div>\n",
    "</div>"
   ]
  },
  {
   "cell_type": "markdown",
   "metadata": {},
   "source": []
  }
 ],
 "metadata": {
  "kernelspec": {
   "display_name": "econ",
   "language": "python",
   "name": "python3"
  },
  "language_info": {
   "codemirror_mode": {
    "name": "ipython",
    "version": 3
   },
   "file_extension": ".py",
   "mimetype": "text/x-python",
   "name": "python",
   "nbconvert_exporter": "python",
   "pygments_lexer": "ipython3",
   "version": "3.11.10"
  }
 },
 "nbformat": 4,
 "nbformat_minor": 2
}
