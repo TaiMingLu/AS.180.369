{
 "cells": [
  {
   "cell_type": "markdown",
   "metadata": {
    "slideshow": {
     "slide_type": "slide"
    }
   },
   "source": [
    "# Analyzing Privacy Leakage Patterns in Large Language Models\n",
    "\n",
    "#### A Statistical Study of Data Exposure and Generation\n",
    "\n",
    "#### TaiMing Lu"
   ]
  },
  {
   "cell_type": "markdown",
   "metadata": {
    "slideshow": {
     "slide_type": "slide"
    }
   },
   "source": [
    "<div style=\"text-align: center;\">\n",
    "    <h3>Large Language Models have taken us by surprise</h3>\n",
    "    <img src=\"pics/llms.png\" alt=\"LLMs Image\" style=\"width:100%; margin-top:20px;\">\n",
    "</div>"
   ]
  },
  {
   "cell_type": "markdown",
   "metadata": {
    "slideshow": {
     "slide_type": "slide"
    }
   },
   "source": [
    "<div style=\"text-align: center;\">\n",
    "    <h3>Large Language Models have taken us by surprise</h3>\n",
    "    <p style=\"font-size: 1.2em; margin-top: 10px;\">\n",
    "        - Trained on datasets exceeding <b>1 trillion tokens</b>.<br>\n",
    "        - Model sizes surpassing <b>175 billion parameters</b> (e.g., GPT-3).<br>\n",
    "        - Adoption across <b>50+ industries</b>, transforming productivity and innovation.<br>\n",
    "        - Generating <b>100 billion words daily</b> on average.\n",
    "    </p>\n",
    "    <img src=\"pics/llms_statistics.png\" alt=\"LLMs Statistics\" style=\"width:60%; margin-top:20px;\">\n",
    "</div>\n"
   ]
  },
  {
   "cell_type": "markdown",
   "metadata": {
    "slideshow": {
     "slide_type": "slide"
    }
   },
   "source": [
    "<div style=\"text-align: center;\">\n",
    "    <h3>Key Questions We Address</h3>\n",
    "    <div style=\"display: flex; flex-direction: column; align-items: center; margin: 30px 0;\">\n",
    "        <div style=\"background: #f5f5f5; padding: 20px; margin: 10px 0; border-radius: 10px; width: 80%; text-align: left;\">\n",
    "            <h4>1. How much sensitive information do LLMs memorize?</h4>\n",
    "            <p style=\"color: #666;\">Analyzing patterns of PII retention in training data</p>\n",
    "        </div>\n",
    "        <div style=\"background: #f5f5f5; padding: 20px; margin: 10px 0; border-radius: 10px; width: 80%; text-align: left;\">\n",
    "            <h4>2. What factors influence privacy leakage?</h4>\n",
    "            <p style=\"color: #666;\">Investigating the relationship between data occurrence and generation probability</p>\n",
    "        </div>\n",
    "    </div>\n",
    "</div>"
   ]
  },
  {
   "cell_type": "markdown",
   "metadata": {
    "slideshow": {
     "slide_type": "slide"
    }
   },
   "source": [
    "<div style=\"text-align: center; background: linear-gradient(to right, #f8f9fa, #e9ecef); padding: 5px; border-radius: 15px;\"> \n",
    "    <h3 style=\"color: #2c3e50; margin-bottom: 5px; font-size: 0.9em;\">Privacy Challenges in Large Language Models</h3> \n",
    "    <!-- Training Data Section --> \n",
    "    <div style=\"margin: 15px 0; text-align: left; border-left: 5px solid #4a90e2; padding-left: 15px; margin-bottom: 0px\"> \n",
    "        <h4 style=\"color: #4a90e2; font-size: 0.8em; margin-bottom: 0px\">1. Accidental Data Exposure</h4> \n",
    "        <p style=\"color: #2c3e50; margin: 5px 0; font-size: 0.7em;\">How AI models might leak private information:</p> \n",
    "        <ul style=\"list-style-type: none; padding-left: 10px; font-size: 0.65em;\"> \n",
    "            <li style=\"margin: 5px 0;\">→ AI can remember and reveal personal information with 98% accuracy, similar to accidentally sharing private emails [Carlini et al., 2021]</li> \n",
    "            <li style=\"margin: 5px 0;\">→ Models can unexpectedly reveal business secrets and private conversations hidden in their training data [Carlini et al., 2021]</li> \n",
    "            <li style=\"margin: 5px 0;\">→ Medical AI systems risk exposing patient information, like sharing hospital records without consent [Esteva et al., 2019]</li> \n",
    "            <li style=\"margin: 5px 0;\">→ Skilled users can trick the AI into revealing sensitive information through careful questioning [Extracting et al., 2021]</li> \n",
    "        </ul> \n",
    "    </div> \n",
    "    <!-- Membership Inference Section --> \n",
    "    <div style=\"margin: 15px 0; text-align: left; border-left: 5px solid #e67e22; padding-left: 15px; margin-bottom: 0px\"> \n",
    "        <h4 style=\"color: #e67e22; font-size: 0.8em; margin-bottom: 0px\">2. Privacy Detective Work</h4> \n",
    "        <p style=\"color: #2c3e50; margin: 5px 0; font-size: 0.7em;\">How outsiders can piece together private information:</p> \n",
    "        <ul style=\"list-style-type: none; padding-left: 10px; font-size: 0.65em;\"> \n",
    "            <li style=\"margin: 5px 0;\">→ Attackers can determine if your data was used to train an AI with 80% accuracy - like finding your fingerprints on a document [Shokri et al., 2017]</li> \n",
    "            <li style=\"margin: 5px 0;\">→ In healthcare, this could reveal whether someone was treated for a specific condition [Santos-Lozada et al., 2020]</li> \n",
    "            <li style=\"margin: 5px 0;\">→ Legal AI systems might accidentally expose confidential case information [Bommarito et al., 2018]</li> \n",
    "            <li style=\"margin: 5px 0;\">→ These detection methods are becoming more sophisticated over time [Jayaraman et al., 2019]</li> \n",
    "        </ul> \n",
    "    </div> \n",
    "    <!-- Privacy Solutions Section --> \n",
    "    <div style=\"margin: 15px 0; text-align: left; border-left: 5px solid #27ae60; padding-left: 15px; margin-bottom: 0px\"> \n",
    "        <h4 style=\"color: #27ae60; font-size: 0.8em; margin-bottom: 0px\">3. Current Solutions & Their Challenges</h4> \n",
    "        <p style=\"color: #2c3e50; margin: 5px 0; font-size: 0.7em;\">The trade-off between privacy and usefulness:</p> \n",
    "        <ul style=\"list-style-type: none; padding-left: 10px; font-size: 0.65em;\"> \n",
    "            <li style=\"margin: 5px 0;\">→ Privacy protections can reduce AI performance by 30% - like driving a car with the brakes partially engaged [Abadi et al., 2016]</li> \n",
    "            <li style=\"margin: 5px 0;\">→ Sometimes older, simpler privacy methods work better than newer complex ones [Muralidhar et al., 2023]</li> \n",
    "            <li style=\"margin: 5px 0;\">→ Privacy measures can make AI less accurate for minority groups [Santos-Lozada et al., 2020]</li> \n",
    "            <li style=\"margin: 5px 0;\">→ As AI models get larger, protecting privacy becomes harder [Hotz et al., 2022]</li> \n",
    "            <li style=\"margin: 5px 0;\">→ Researchers emphasize the urgent need for better privacy solutions [Domingo-Ferrer et al., 2021]</li> \n",
    "        </ul> \n",
    "    </div> \n",
    "</div>"
   ]
  },
  {
   "cell_type": "markdown",
   "metadata": {
    "slideshow": {
     "slide_type": "slide"
    }
   },
   "source": [
    "<div style=\"text-align: center; padding: 30px; background: #fafafa;\">\n",
    "    <h3 style=\"margin-bottom: 30px; color: #1a237e; font-size: 18px;\">Our Approach to Privacy Analysis - Experimental Setup</h3>\n",
    "    <!-- Research Goals -->\n",
    "    <div style=\"margin-top: 30px; margin-bottom: 30px; padding: 25px; background: white; border-radius: 8px; box-shadow: 0 2px 15px rgba(0,0,0,0.05);\">\n",
    "        <h4 style=\"margin-bottom: 25px; color: #283593; font-size: 16px;\">Research Objectives</h4>\n",
    "        <div style=\"display: flex; justify-content: space-between; text-align: left;\">\n",
    "            <div style=\"width: 30%;\">\n",
    "                <h5 style=\"color: #1976d2; font-size: 14px;\">1. Data Analysis</h5>\n",
    "                <p style=\"color: #37474f; font-size: 12px;\">Quantify sensitive information in training data</p>\n",
    "            </div>\n",
    "            <div style=\"width: 30%;\">\n",
    "                <h5 style=\"color: #1976d2; font-size: 14px;\">2. Privacy Exposure</h5>\n",
    "                <p style=\"color: #37474f; font-size: 12px;\">Measure frequency of private information in outputs</p>\n",
    "            </div>\n",
    "            <div style=\"width: 30%;\">\n",
    "                <h5 style=\"color: #1976d2; font-size: 14px;\">3. Correlation Study</h5>\n",
    "                <p style=\"color: #37474f; font-size: 12px;\">Analyze relationship between data occurrence and generation</p>\n",
    "            </div>\n",
    "        </div>\n",
    "    </div>\n",
    "    <!-- Dataset & Model Section -->\n",
    "    <div style=\"display: flex; justify-content: space-between; margin-bottom: 40px;\">\n",
    "        <!-- Dataset Box -->\n",
    "        <div style=\"width: 40%; padding: 25px; background: white; border-radius: 8px; box-shadow: 0 2px 15px rgba(0,0,0,0.05);\">\n",
    "            <div style=\"display: flex; align-items: flex-start;\">\n",
    "                <div style=\"background: #e3f2fd; padding: 10px; border-radius: 50%; width: 60px; height: 60px; display: flex; align-items: center; justify-content: center;\">\n",
    "                    <img src=\"pics/hf.png\" alt=\"FineWeb Dataset Logo\" style=\"width: 40px;\"/>\n",
    "                </div>\n",
    "                <div style=\"margin-left: 20px; text-align: left;\">\n",
    "                    <h4 style=\"color: #1976d2; margin-bottom: 20px; font-size: 16px;\">FineWeb Dataset</h4>\n",
    "                    <ul style=\"list-style: none; padding: 0; font-size: 12px;\">\n",
    "                        <li style=\"margin: 12px 0; color: #37474f;\">• Internet snapshot dataset</li>\n",
    "                        <li style=\"margin: 12px 0; color: #37474f;\">• Rich in user-generated content</li>\n",
    "                        <li style=\"margin: 12px 0; color: #37474f;\">• Contains diverse text data</li>\n",
    "                    </ul>\n",
    "                </div>\n",
    "            </div>\n",
    "        </div>\n",
    "        <!-- Model Box -->\n",
    "        <div style=\"width: 40%; padding: 25px; background: white; border-radius: 8px; box-shadow: 0 2px 15px rgba(0,0,0,0.05);\">\n",
    "            <div style=\"display: flex; align-items: flex-start;\">\n",
    "                <div style=\"background: #e8eaf6; padding: 10px; border-radius: 50%; width: 60px; height: 60px; display: flex; align-items: center; justify-content: center;\">\n",
    "                    <img src=\"pics/gpt.png\" alt=\"GPT4-o Logo\" style=\"width: 40px;\"/>\n",
    "                </div>\n",
    "                <div style=\"margin-left: 20px; text-align: left;\">\n",
    "                    <h4 style=\"color: #3949ab; margin-bottom: 20px; font-size: 16px;\">GPT4-o Model</h4>\n",
    "                    <ul style=\"list-style: none; padding: 0; font-size: 12px;\">\n",
    "                        <li style=\"margin: 12px 0; color: #37474f;\">• State-of-the-art LLM</li>\n",
    "                        <li style=\"margin: 12px 0; color: #37474f;\">• Advanced text generation</li>\n",
    "                        <li style=\"margin: 12px 0; color: #37474f;\">• High performance metrics</li>\n",
    "                    </ul>\n",
    "                </div>\n",
    "            </div>\n",
    "        </div>\n",
    "    </div>\n",
    "</div>"
   ]
  },
  {
   "cell_type": "markdown",
   "metadata": {
    "slideshow": {
     "slide_type": "slide"
    }
   },
   "source": [
    "<div style=\"text-align: center; padding: 20px; background: #fafafa;\">\n",
    "<h3 style=\"margin-bottom: 15px; color: #1a237e; font-size: 18px;\">Experimental Methodology</h3>\n",
    "<div style=\"margin-bottom: 15px; padding: 15px; background: white; border-radius: 8px; box-shadow: 0 2px 15px rgba(0,0,0,0.05);\">\n",
    "<h4 style=\"color: #1976d2; text-align: left; font-size: 16px; margin-bottom: 10px;\">1. Data Processing Pipeline</h4>\n",
    "<div style=\"display: flex; justify-content: space-between;\">\n",
    "<div style=\"width: 32%; text-align: left;\">\n",
    "<h5 style=\"color: #3949ab; font-size: 14px; margin-bottom: 5px;\">Data Collection</h5>\n",
    "<p style=\"color: #37474f; font-size: 12px;\">• Extract documents with PII<br>• Filter privacy-sensitive content<br>• Tokenize using GPT4-o tokenizer</p>\n",
    "</div>\n",
    "<div style=\"width: 32%; text-align: left;\">\n",
    "<h5 style=\"color: #3949ab; font-size: 14px; margin-bottom: 5px;\">PII Detection</h5>\n",
    "<p style=\"color: #37474f; font-size: 12px;\">• Named Entity Recognition<br>• Pattern matching<br>• Metadata extraction</p>\n",
    "</div>\n",
    "<div style=\"width: 32%; text-align: left;\">\n",
    "<h5 style=\"color: #3949ab; font-size: 14px; margin-bottom: 5px;\">Data Preprocessing</h5>\n",
    "<p style=\"color: #37474f; font-size: 12px;\">• Sequence tokenization<br>• Context window preparation<br>• Privacy label annotation</p>\n",
    "</div>\n",
    "</div>\n",
    "</div>\n",
    "<div style=\"display: flex; justify-content: space-between;\">\n",
    "<div style=\"width: 45%; padding: 15px; background: white; border-radius: 8px; box-shadow: 0 2px 15px rgba(0,0,0,0.05);\">\n",
    "<h4 style=\"color: #1976d2; text-align: left; font-size: 16px; margin-bottom: 10px;\">2. Analysis Methods</h4>\n",
    "<div style=\"text-align: left;\">\n",
    "<h5 style=\"color: #3949ab; font-size: 14px; margin-bottom: 5px;\">Next Token Probability:</h5>\n",
    "<p style=\"background: #f5f5f5; padding: 8px; border-radius: 5px; font-family: monospace; font-size: 12px; margin-bottom: 8px;\">P(tᵢ|context) = softmax(z)ᵢ = exp(zᵢ) / Σⱼexp(zⱼ)</p>\n",
    "<h5 style=\"color: #3949ab; font-size: 14px; margin-bottom: 5px;\">Sequence Probability:</h5>\n",
    "<p style=\"background: #f5f5f5; padding: 8px; border-radius: 5px; font-family: monospace; font-size: 12px; margin-bottom: 8px;\">P(S|context) = P(t₁|context) × P(t₂|t₁) × ... × P(tₙ|t₁...tₙ₋₁)</p>\n",
    "<h5 style=\"color: #3949ab; font-size: 14px; margin-bottom: 5px;\">Perplexity Score:</h5>\n",
    "<p style=\"background: #f5f5f5; padding: 8px; border-radius: 5px; font-family: monospace; font-size: 12px;\">PPL = exp(-1/N × Σᵢlog P(tᵢ|context))</p>\n",
    "</div>\n",
    "</div>\n",
    "<div style=\"width: 45%; padding: 15px; background: white; border-radius: 8px; box-shadow: 0 2px 15px rgba(0,0,0,0.05);\">\n",
    "<h4 style=\"color: #1976d2; text-align: left; font-size: 16px; margin-bottom: 10px;\">3. Evaluation Metrics</h4>\n",
    "<div style=\"text-align: left;\">\n",
    "<h5 style=\"color: #3949ab; font-size: 14px; margin-bottom: 5px;\">PII Frequency</h5>\n",
    "<p style=\"color: #37474f; font-size: 12px; margin-bottom: 8px;\">• Measure occurrence rate of sensitive information<br>• Calculate distribution of PII types<br>• Analyze frequency patterns</p>\n",
    "<h5 style=\"color: #3949ab; font-size: 14px; margin-bottom: 5px;\">Generation Probability</h5>\n",
    "<p style=\"color: #37474f; font-size: 12px; margin-bottom: 8px;\">• Calculate privacy-sensitive token generation<br>• Measure contextual generation patterns<br>• Assess privacy exposure risks</p>\n",
    "<h5 style=\"color: #3949ab; font-size: 14px; margin-bottom: 5px;\">Correlation Analysis</h5>\n",
    "<p style=\"color: #37474f; font-size: 12px;\">• R-squared values and significance<br>• Analyze frequency-generation relationship<br>• Evaluate leakage patterns</p>\n",
    "</div>\n",
    "</div>\n",
    "</div>\n",
    "</div>"
   ]
  },
  {
   "cell_type": "markdown",
   "metadata": {
    "slideshow": {
     "slide_type": "slide"
    }
   },
   "source": [
    "<div style=\"text-align: center; padding: 20px; background: #fafafa;\">\n",
    "    <h3 style=\"margin-bottom: 15px; color: #1a237e; font-size: 18px;\">PII Distribution Analysis</h3>\n",
    "    <div style=\"padding: 15px; background: white; border-radius: 8px; box-shadow: 0 2px 15px rgba(0,0,0,0.05);\">\n",
    "        <h4 style=\"color: #1976d2; text-align: left; font-size: 16px; margin-bottom: 15px;\">Overall PII Distribution in Dataset</h4>\n",
    "        <div style=\"display: flex; justify-content: space-between;\">\n",
    "            <div style=\"width: 48%;\">\n",
    "                <p style=\"color: #3949ab; font-size: 14px;\">Total Count by PII Type</p>\n",
    "                <img src=\"./pics/pii_count_by_type.png\" alt=\"PII Count\" style=\"width: 100%;\"/>\n",
    "            </div>\n",
    "            <div style=\"width: 48%;\">\n",
    "                <p style=\"color: #3949ab; font-size: 14px;\">PII Rate per Document</p>\n",
    "                <img src=\"./pics/pii_rate_per_document.png\" alt=\"PII Rate\" style=\"width: 100%;\"/>\n",
    "            </div>\n",
    "        </div>\n",
    "    </div>\n",
    "</div>"
   ]
  },
  {
   "cell_type": "markdown",
   "metadata": {
    "slideshow": {
     "slide_type": "slide"
    }
   },
   "source": [
    "<div style=\"text-align: center; padding: 20px; background: #fafafa;\">\n",
    "    <h3 style=\"margin-bottom: 15px; color: #1a237e; font-size: 18px;\">Top Entities by Category</h3>\n",
    "    <div style=\"padding: 15px; background: white; border-radius: 8px; box-shadow: 0 2px 15px rgba(0,0,0,0.05);\">\n",
    "        <div style=\"display: flex; justify-content: space-between;\">\n",
    "            <div style=\"width: 32%;\">\n",
    "                <p style=\"color: #3949ab; font-size: 14px;\">Most Frequent Person Names</p>\n",
    "                <img src=\"./pics/top_entities_person.png\" alt=\"Top Person Entities\" style=\"width: 100%;\"/>\n",
    "            </div>\n",
    "            <div style=\"width: 32%;\">\n",
    "                <p style=\"color: #3949ab; font-size: 14px;\">Top Email Addresses</p>\n",
    "                <img src=\"./pics/top_entities_email.png\" alt=\"Top Email Entities\" style=\"width: 100%;\"/>\n",
    "            </div>\n",
    "            <div style=\"width: 32%;\">\n",
    "                <p style=\"color: #3949ab; font-size: 14px;\">Common IP Addresses</p>\n",
    "                <img src=\"./pics/top_entities_ip_address.png\" alt=\"Top IP Entities\" style=\"width: 100%;\"/>\n",
    "            </div>\n",
    "        </div>\n",
    "    </div>\n",
    "</div>"
   ]
  },
  {
   "cell_type": "markdown",
   "metadata": {
    "slideshow": {
     "slide_type": "slide"
    }
   },
   "source": [
    "<div style=\"text-align: center; padding: 20px; background: #fafafa;\">\n",
    "    <h3 style=\"margin-bottom: 15px; color: #1a237e; font-size: 18px;\">Generation Probability Analysis</h3>\n",
    "    <div style=\"padding: 15px; background: white; border-radius: 8px; box-shadow: 0 2px 15px rgba(0,0,0,0.05);\">\n",
    "        <h4 style=\"color: #1976d2; text-align: left; font-size: 16px; margin-bottom: 15px;\">Correlation Between Occurrence and Generation</h4>\n",
    "        <img src=\"pics/analysis_regression.png\" alt=\"Regression Analysis\" style=\"width: 70%; margin-bottom: 20px;\"/>\n",
    "        <div style=\"display: flex; justify-content: space-around;\">\n",
    "            <div style=\"text-align: left; width: 45%;\">\n",
    "                <h5 style=\"color: #3949ab; font-size: 14px;\">Statistical Metrics</h5>\n",
    "                <p style=\"color: #37474f; font-size: 12px;\">\n",
    "                    • R² = 0.3442 (moderate correlation)<br>\n",
    "                    • p-value ≈ 1.17×10⁻⁵ (statistically significant)<br>\n",
    "                    • Slope = 0.0004 (positive relationship)\n",
    "                </p>\n",
    "            </div>\n",
    "            <div style=\"text-align: left; width: 45%;\">\n",
    "                <h5 style=\"color: #3949ab; font-size: 14px;\">Key Implications</h5>\n",
    "                <p style=\"color: #37474f; font-size: 12px;\">\n",
    "                    • Clear positive correlation between frequency and generation<br>\n",
    "                    • Statistically significant relationship<br>\n",
    "                    • Higher occurrence leads to increased generation probability\n",
    "                </p>\n",
    "            </div>\n",
    "        </div>\n",
    "    </div>\n",
    "</div>"
   ]
  },
  {
   "cell_type": "markdown",
   "metadata": {
    "slideshow": {
     "slide_type": "slide"
    }
   },
   "source": [
    "<div style=\"text-align: center; padding: 20px; background: linear-gradient(135deg, #6b73ff 0%, #000dff 100%);\">\n",
    "    <h3 style=\"margin-bottom: 20px; color: #ffffff; font-size: 24px; text-shadow: 2px 2px 4px rgba(0,0,0,0.3);\">Key Findings</h3>\n",
    "    <!-- Distribution Analysis -->\n",
    "    <div style=\"margin-bottom: 20px; padding: 20px; background: rgba(255,255,255,0.1); backdrop-filter: blur(10px); border-radius: 16px; box-shadow: 0 4px 30px rgba(0, 0, 0, 0.1); border: 1px solid rgba(255, 255, 255, 0.2);\">\n",
    "        <h4 style=\"color: #ffffff; text-align: left; font-size: 18px; margin-bottom: 15px;\">📊 PII Distribution Patterns</h4>\n",
    "        <div style=\"text-align: left;\">\n",
    "            <p style=\"color: #ffffff; font-size: 16px; margin-bottom: 8px; text-shadow: 1px 1px 2px rgba(0,0,0,0.2);\">\n",
    "                • Personal names dominate (>50%)<br>\n",
    "                • Location data significant presence<br>\n",
    "                • Consistent cross-document patterns\n",
    "            </p>\n",
    "        </div>\n",
    "    </div>\n",
    "    <!-- Generation Analysis -->\n",
    "    <div style=\"padding: 20px; background: rgba(255,255,255,0.1); backdrop-filter: blur(10px); border-radius: 16px; box-shadow: 0 4px 30px rgba(0, 0, 0, 0.1); border: 1px solid rgba(255, 255, 255, 0.2);\">\n",
    "        <h4 style=\"color: #ffffff; text-align: left; font-size: 18px; margin-bottom: 15px;\">🎯 Generation Analysis</h4>\n",
    "        <div style=\"text-align: left;\">\n",
    "            <p style=\"color: #ffffff; font-size: 16px; text-shadow: 1px 1px 2px rgba(0,0,0,0.2);\">\n",
    "                • Strong correlation (p < 0.001)<br>\n",
    "                • Moderate effect (R² = 0.34)<br>\n",
    "                • Systematic privacy leakage\n",
    "            </p>\n",
    "        </div>\n",
    "    </div>\n",
    "</div>"
   ]
  },
  {
   "cell_type": "markdown",
   "metadata": {
    "slideshow": {
     "slide_type": "slide"
    }
   },
   "source": [
    "<div style=\"text-align: center; padding: 20px; background: linear-gradient(135deg, #FF6B6B 0%, #556270 100%);\">\n",
    "    <h3 style=\"margin-bottom: 20px; color: #ffffff; font-size: 24px; text-shadow: 2px 2px 4px rgba(0,0,0,0.3);\">Implications & Next Steps</h3>\n",
    "    <!-- Implications -->\n",
    "    <div style=\"margin-bottom: 20px; padding: 20px; background: rgba(255,255,255,0.1); backdrop-filter: blur(10px); border-radius: 16px; box-shadow: 0 4px 30px rgba(0, 0, 0, 0.1); border: 1px solid rgba(255, 255, 255, 0.2);\">\n",
    "        <h4 style=\"color: #ffffff; text-align: left; font-size: 18px; margin-bottom: 15px;\">💡 Key Implications</h4>\n",
    "        <div style=\"text-align: left;\">\n",
    "            <p style=\"color: #ffffff; font-size: 16px; text-shadow: 1px 1px 2px rgba(0,0,0,0.2);\">\n",
    "                • Higher risk for frequent data<br>\n",
    "                • Predictable generation patterns<br>\n",
    "                • Clear memorization evidence\n",
    "            </p>\n",
    "        </div>\n",
    "    </div>\n",
    "    <!-- Future Work -->\n",
    "    <div style=\"padding: 20px; background: rgba(255,255,255,0.1); backdrop-filter: blur(10px); border-radius: 16px; box-shadow: 0 4px 30px rgba(0, 0, 0, 0.1); border: 1px solid rgba(255, 255, 255, 0.2);\">\n",
    "        <h4 style=\"color: #ffffff; text-align: left; font-size: 18px; margin-bottom: 15px;\">🚀 Future Directions</h4>\n",
    "        <div style=\"text-align: left;\">\n",
    "            <p style=\"color: #ffffff; font-size: 16px; text-shadow: 1px 1px 2px rgba(0,0,0,0.2);\">\n",
    "                • Enhance privacy-preserving techniques<br>\n",
    "                • Improve sensitive data detection<br>\n",
    "                • Privacy-focused architecture design\n",
    "            </p>\n",
    "        </div>\n",
    "    </div>\n",
    "</div>"
   ]
  },
  {
   "cell_type": "markdown",
   "metadata": {
    "slideshow": {
     "slide_type": "slide"
    }
   },
   "source": [
    "<div style=\"text-align: center; padding: 40px; background: linear-gradient(135deg, #1a237e 0%, #0d47a1 100%); height: 400px; display: flex; flex-direction: column; justify-content: center; align-items: center;\">\n",
    "    <h2 style=\"color: #ffffff; font-size: 42px; margin-bottom: 30px; text-shadow: 2px 2px 4px rgba(0,0,0,0.3);\">Thank You!</h2>\n",
    "    <div style=\"margin: 20px 0;\">\n",
    "        <p style=\"color: #ffffff; font-size: 24px; margin-bottom: 15px;\">TaiMing Lu</p>\n",
    "    </div>\n",
    "    <p style=\"color: #ffffff; font-size: 18px; margin-top: 30px;\">Questions & Discussion</p>\n",
    "</div>"
   ]
  },
  {
   "cell_type": "markdown",
   "metadata": {},
   "source": []
  }
 ],
 "metadata": {
  "kernelspec": {
   "display_name": "econ",
   "language": "python",
   "name": "python3"
  },
  "language_info": {
   "codemirror_mode": {
    "name": "ipython",
    "version": 3
   },
   "file_extension": ".py",
   "mimetype": "text/x-python",
   "name": "python",
   "nbconvert_exporter": "python",
   "pygments_lexer": "ipython3",
   "version": "3.11.10"
  }
 },
 "nbformat": 4,
 "nbformat_minor": 2
}
